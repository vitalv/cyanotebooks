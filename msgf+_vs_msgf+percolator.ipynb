{
 "cells": [
  {
   "cell_type": "markdown",
   "metadata": {},
   "source": [
    "## msgf+ vs msgf+percolator\n",
    "Compares number of unique identified peptides for peptide-level q-values from MSGF+ alone and in combination with Percolator\n",
    "\n",
    "Requires Percolator/qvality installed\n",
    "\n",
    "Use complete instead of relative path to input files for better compatibilty"
   ]
  },
  {
   "cell_type": "code",
   "execution_count": 1,
   "metadata": {
    "collapsed": false
   },
   "outputs": [
    {
     "name": "stderr",
     "output_type": "stream",
     "text": [
      "/usr/local/lib/python2.7/dist-packages/matplotlib/__init__.py:872: UserWarning: axes.color_cycle is deprecated and replaced with axes.prop_cycle; please use the latter.\n",
      "  warnings.warn(self.msg_depr % (key, alt_key))\n"
     ]
    }
   ],
   "source": [
    "%matplotlib inline \n",
    "import pandas as pd\n",
    "import matplotlib.pyplot as plt\n",
    "import numpy\n",
    "import matplotlib.patches as mpatches #for the plot legend\n",
    "import seaborn as sb\n",
    "import collections #easiest way to sort a dict, see http://stackoverflow.com/questions/9001509/how-can-i-sort-a-dictionary-by-key\n",
    "import re #regex\n",
    "import argparse\n",
    "import os\n",
    "import csv"
   ]
  },
  {
   "cell_type": "markdown",
   "metadata": {},
   "source": [
    "usage:\n",
    "\n",
    "##### python msgf+_vs_msgf+percolator.py  [-h]     --csv_file     --target_mzid     --decoy_mzid\n",
    "\n",
    "(For this notebook, just hard-type the arguments here)"
   ]
  },
  {
   "cell_type": "code",
   "execution_count": 2,
   "metadata": {
    "collapsed": true
   },
   "outputs": [],
   "source": [
    "parser = argparse.ArgumentParser()\n",
    "parser.add_argument(\"--csv_file\", required=True, help=\"MSGF+ search result in csv format (-tda option in MSGF+ -> TextExporter) without any filtering or processing\")\n",
    "parser.add_argument(\"--target_mzid\", required=True, help=\"Target mzid file, needed to create percolator input (pin) file\")\n",
    "parser.add_argument(\"--decoy_mzid\", required=True, help=\"Decoy mzid file, needed to create percolator input (pin) file\")\n",
    "#args = parser.parse_args()\n",
    "#msgfp_file = args.csv_file\n",
    "msgfp_file = \"/home/vital/cyano_test_dataset/TOPPAS_pipelines/MSGFPlus_percolator/TOPPAS_out/007-TextExporter-out/HF2_20160530_GMFE_Cyano_2ug_3h_vial1_target_decoy.csv\"\n",
    "#target_mzid_file = args.target_mzid\n",
    "target_mzid_file = \"/home/vital/cyano_test_dataset/TOPPAS_pipelines/MSGFPlus_percolator/TOPPAS_out/005-MSGFPlusAdapter-mzid_out/HF2_20160530_GMFE_Cyano_2ug_3h_vial1_target.mzid\"\n",
    "#decoy_mzid_file = args.decoy_mzid\n",
    "decoy_mzid_file = \"/home/vital/cyano_test_dataset/TOPPAS_pipelines/MSGFPlus_percolator/TOPPAS_out/005-MSGFPlusAdapter-mzid_out/HF2_20160530_GMFE_Cyano_2ug_3h_vial1_decoy.mzid\"\n",
    "\n",
    "if not os.path.isfile(msgfp_file):\n",
    "    print \"\\nMSGF+ search result file not found: %s \" % msgfp_file + \"\\n\"\n",
    "if not os.path.isfile(target_mzid_file):\n",
    "    print \"\\nTarget mzid file not found: %s \" % target_mzid_file + \"\\n\"\n",
    "if not os.path.isfile(decoy_mzid_file):\n",
    "    print \"\\Decoy mzid file not found: %s \" % decoy_mzid_file + \"\\n\""
   ]
  },
  {
   "cell_type": "markdown",
   "metadata": {},
   "source": [
    "#### READ PSMs from MSGFPlus (search with target+decoy, with -tda option)\n",
    "and discard all but best scoring duplicate PSM matching to one particular peptide (disregarding charge states and PTMs) so I peptide-level q-values can then be estimated with qvality "
   ]
  },
  {
   "cell_type": "code",
   "execution_count": 3,
   "metadata": {
    "collapsed": false
   },
   "outputs": [
    {
     "name": "stderr",
     "output_type": "stream",
     "text": [
      "/usr/lib/python2.7/dist-packages/pandas/core/generic.py:2387: SettingWithCopyWarning: \n",
      "A value is trying to be set on a copy of a slice from a DataFrame.\n",
      "Try using .loc[row_indexer,col_indexer] = value instead\n",
      "\n",
      "See the caveats in the documentation: http://pandas.pydata.org/pandas-docs/stable/indexing.html#indexing-view-versus-copy\n",
      "  self[name] = value\n"
     ]
    }
   ],
   "source": [
    "msgfp = pd.read_csv(msgfp_file, skiprows=2, delimiter=\"\\t\")\n",
    "\n",
    "#Discard all but best scoring duplicate PSM matching to one particular peptide (disregarding charge states and PTMs)\n",
    "msgfp_psms = msgfp[msgfp['#PEPTIDE'] == 'PEPTIDE']\n",
    "msgfp_psms.sequence = msgfp_psms.sequence.str.replace('\\(Acetyl\\)|\\(Oxidation\\)|\\(Carbamidomethyl\\)', '')\n",
    "msgfp_psms.score = msgfp_psms.score.astype(float) #min and max don't work if score is not float!\n",
    "#get unique peptide for psm_groups\n",
    "psm_groups = msgfp_psms.groupby('sequence', group_keys=False)\n",
    "msgfp_peptides = psm_groups.apply(lambda x: x.ix[x.score.idxmin()])\n",
    "\n",
    "#Need to provide a null population for qvality\n",
    "msgfp_null_psms = msgfp_psms[msgfp_psms.accessions.str.contains('XXX') ] #-tda option in MSGF+ adds XXX as decoy label\n",
    "\n",
    "#Also null PSMs can be assigned to the same decoy sequence!\n",
    "null_psm_groups = msgfp_null_psms.groupby('sequence', group_keys=False)\n",
    "\n",
    "#Also get only one, best null psm score, for groups of PSMs referred to the same decoy seq!\n",
    "msgfp_null_peptides = null_psm_groups.apply(lambda x: x.ix[x.score.idxmin()])"
   ]
  },
  {
   "cell_type": "markdown",
   "metadata": {},
   "source": [
    "#### QVality- Estimate pepitde-level q-values for MSGF+ results"
   ]
  },
  {
   "cell_type": "code",
   "execution_count": 4,
   "metadata": {
    "collapsed": false
   },
   "outputs": [
    {
     "name": "stdout",
     "output_type": "stream",
     "text": [
      "Number of unique identified peptides by MSGF+ (excluding decoy hits for q-val 0.01): 8237\n",
      "Number of unique proteins those peptides map to: 1781\n"
     ]
    },
    {
     "name": "stderr",
     "output_type": "stream",
     "text": [
      "/usr/local/lib/python2.7/dist-packages/ipykernel/__main__.py:27: FutureWarning: sort(columns=....) is deprecated, use sort_values(by=.....)\n"
     ]
    }
   ],
   "source": [
    "msgfp_file_basename = os.path.basename(msgfp_file).split(\".\")[0]\n",
    "\n",
    "#qvality requires a file where \"each score separated with whitespace or line feed\"\n",
    "msgfp_peptides.score.to_csv(\"%s_msgfp_peptides_scores.txt\"%msgfp_file_basename, index=False)\n",
    "#and equivalent null_file:\n",
    "msgfp_null_peptides.score.to_csv(\"%s_msgfp_null_peptides_scores.txt\"%msgfp_file_basename , index=False)\n",
    "\n",
    "#Run qvality to obtain q-values #NOT  here in notebook! Just in the script!\n",
    "#qvality_call = \"qvality --reverse --output-file\" + \" %s_qvality_out.csv\"%msgfp_file_basename + \" %s_msgfp_peptides_scores.txt\"%msgfp_file_basename + \" %s_msgfp_null_peptides_scores.txt\"%msgfp_file_basename\n",
    "#print(\"\\n\\nRunning\\n%s\\n\"%qvality_call+\"\\n\")\n",
    "#os.system(qvality_call) \n",
    "\n",
    "#example of the qvality_call:\n",
    "#qvality --reverse --output-file 'qvality_out.csv' msgfp_peptides_scores.csv msgfp_null_peptides_scores.csv \n",
    "    #target_file and null_file are files containing scores from a mixed model and a null model\n",
    "    #(--reverse indicates low scores are better, I'm using SpecEvalue.)\n",
    "\n",
    "#AND  get q-values from msgfp-qvality: #Note I only need the 3rd column, q-value\n",
    "#msgfp_qvality = pd.read_csv(\"%s_qvality_out.csv\"%msgfp_file_basename, delimiter=\"\\t\", usecols=[2])\n",
    "\n",
    "#NOte: For this notebook, just so I don't have to run qvality here, just hard-type and read :\n",
    "msgfp_qvality = pd.read_csv(\"/home/vital/cyano/src/HF2_20160530_GMFE_Cyano_2ug_3h_vial1_target_decoy_qvality_out.csv\", delimiter=\"\\t\", usecols=[2])\n",
    "\n",
    "\n",
    "#Output from qvality is sorted by the original score\n",
    "#So sort my df by score\n",
    "msgfp_peptides = msgfp_peptides.sort('score')\n",
    "\n",
    "#And add the q-values from qvality\n",
    "msgfp_peptides['q-val'] = list(msgfp_qvality['q-value'])\n",
    "\n",
    "#Filter out decoy hits (If I want to compare with percolator num of proteins, since Perc excludes decoy hits)\n",
    "msgfp_peptides_excl_decoy = msgfp_peptides[~msgfp_peptides.accessions.str.contains('XXX') ]\n",
    "\n",
    "#Filter out . q-val <0.01\n",
    "msgfp_peptides_excl_decoy_001 = msgfp_peptides_excl_decoy[msgfp_peptides_excl_decoy['q-val'] < 0.01 ]\n",
    "\n",
    "print(\"Number of unique identified peptides by MSGF+ (excluding decoy hits for q-val 0.01): %s\"%len(msgfp_peptides_excl_decoy_001))\n",
    "print(\"Number of unique proteins those peptides map to: %s\"%len(msgfp_peptides_excl_decoy_001.accessions.unique()))\n"
   ]
  },
  {
   "cell_type": "markdown",
   "metadata": {},
   "source": [
    "Percolator input (pin) and output (pout) file names:"
   ]
  },
  {
   "cell_type": "code",
   "execution_count": 5,
   "metadata": {
    "collapsed": true
   },
   "outputs": [],
   "source": [
    "pin = \"%s.pin\"%msgfp_file_basename\n",
    "\n",
    "pout = \"%s_msgfplus_search_percolator_peptides.tsv\"%msgfp_file_basename"
   ]
  },
  {
   "cell_type": "markdown",
   "metadata": {},
   "source": [
    "#### Percolator"
   ]
  },
  {
   "cell_type": "code",
   "execution_count": 6,
   "metadata": {
    "collapsed": true
   },
   "outputs": [],
   "source": [
    "#To run Percolator, first create inputfile.pin from a separate target and decoy mzid files:\n",
    "msgf2pin_call = \"msgf2pin -o \" + \"%s.pin\"%msgfp_file_basename + \" \" + target_mzid_file + \" \" + decoy_mzid_file\n",
    "\n",
    "#Don't run msgf2pin here in notebook. Just in the script!\n",
    "#print(\"\\n\\nCreating Percolator input file:\\n%s\\n\"%msgf2pin_call+\"\\n\")\n",
    "#os.system(msgf2pin_call)\n",
    "\n",
    "percolator_call = \"percolator --results-peptides \" + \"%s_msgfplus_search_percolator_peptides.tsv\"%msgfp_file_basename + \" --results-psms \" + \"%s_msgfplus_search_percolator_psms.tsv\"%msgfp_file_basename +  \" %s.pin\"%msgfp_file_basename\n",
    "\n",
    "#Don't run Percolator here in notebook. Just in the script!\n",
    "#print(\"\\n\\nRunning Percolator:\\n%s\\n\"%percolator_call+\"\\n\")\n",
    "#os.system(percolator_call)"
   ]
  },
  {
   "cell_type": "markdown",
   "metadata": {},
   "source": [
    "Note last column in percolator output (pout) is proteinIds, they should be comma separated but are tab separated\n",
    "Some peptides are found in several proteins so protein Ids are grouped. \n",
    "\n",
    "All these accessions should be together in a group in the last column, but since they are tab separated they appear in successive columns! \n",
    "\n",
    "This is bad for reading into a pandas dataframe:\n",
    "\n",
    "So the pout file requires a little preprocessing here:\n",
    "\n",
    "Just remove extra proteins/columns for the moment:"
   ]
  },
  {
   "cell_type": "code",
   "execution_count": 7,
   "metadata": {
    "collapsed": true
   },
   "outputs": [],
   "source": [
    "#Don't do this here in notebook. Just read trimmed_pout in next step.\n",
    "#trimmed_pout = \"trimmed_\" + pout \n",
    "#with open(pout,\"r\") as pi:\n",
    "#    with open(trimmed_pout,\"w\") as po:\n",
    "#        writer=csv.writer(po, delimiter=\"\\t\")\n",
    "#        for row in csv.reader(pi, delimiter=\"\\t\"):\n",
    "#            writer.writerow(row[0:6])\n",
    "\n",
    "trimmed_pout = \"/home/vital/cyano/src/trimmed_HF2_20160530_GMFE_Cyano_2ug_3h_vial1_target_decoy_msgfplus_search_percolator_peptides.tsv\""
   ]
  },
  {
   "cell_type": "code",
   "execution_count": 8,
   "metadata": {
    "collapsed": false
   },
   "outputs": [
    {
     "name": "stdout",
     "output_type": "stream",
     "text": [
      "Number of unique identified peptides by MSGF+Percolator (excluding decoy hits for q-val 0.01): 8730\n",
      "Number of unique proteins those peptides map to: 1831\n"
     ]
    }
   ],
   "source": [
    "percolator = pd.read_csv(trimmed_pout, delimiter=\"\\t\", skiprows=[1]) #skip row with DefaultDirection\n",
    "\n",
    "#Remember, to compare with MSGF+ I have to do the same:\n",
    "#Discard all but best scoring duplicate PSM matching to one particular peptide (disregarding charge states and PTMs)\n",
    "percolator.peptide = percolator.peptide.str.replace('\\[UNIMOD:\\d+\\]', '')\n",
    "\n",
    "perc = percolator.groupby('peptide', group_keys=False).apply(lambda p: p.ix[p['q-value'].idxmin()])\n",
    "\n",
    "perc_f = perc[perc['q-value'] < 0.01]\n",
    "\n",
    "print(\"Number of unique identified peptides by MSGF+Percolator (excluding decoy hits for q-val 0.01): %s\"%len(perc_f))\n",
    "print(\"Number of unique proteins those peptides map to: %s\"%len(perc_f.proteinIds.unique()))\n"
   ]
  },
  {
   "cell_type": "markdown",
   "metadata": {},
   "source": [
    "#### Plot unique peptides vs peptide-level q-value"
   ]
  },
  {
   "cell_type": "code",
   "execution_count": 9,
   "metadata": {
    "collapsed": false
   },
   "outputs": [
    {
     "data": {
      "image/png": "[encoded data removed]",
      "text/plain": [
       "<matplotlib.figure.Figure at 0x7f891f815c50>"
      ]
     },
     "metadata": {},
     "output_type": "display_data"
    }
   ],
   "source": [
    "bins = numpy.linspace(0,0.1,1000)\n",
    "\n",
    "perc_q = {round(i,4): sum(1 for q in list(perc['q-value']) if float(q) < i)  for i in bins}\n",
    "perc_q = collections.OrderedDict(sorted(perc_q.items()))\n",
    "#msgfp = collections.OrderedDict(sorted(msgfp.items()))\n",
    "\n",
    "msgfp_q = {round(i,4): sum(1 for q in list(msgfp_peptides_excl_decoy['q-val']) if float(q) < i)  for i in bins}\n",
    "msgfp_q = collections.OrderedDict(sorted(msgfp_q.items()))\n",
    "\n",
    "\n",
    "plt.plot(msgfp_q.keys(), msgfp_q.values(), color='teal', linewidth=2.0)\t\n",
    "plt.plot(perc_q.keys(), perc_q.values(), color='purple', linewidth=2.0)\n",
    "\n",
    "purple_patch = mpatches.Patch(color='purple', label='MSGF+Percolator')\n",
    "teal_patch = mpatches.Patch(color='teal', label='MSGF+(qvality)')\n",
    "\n",
    "plt.xlabel('q-value')\n",
    "plt.ylabel('Peptides')\n",
    "plt.title(msgfp_file_basename)\n",
    "plt.legend(handles=[purple_patch, teal_patch])\n",
    "plt.xlim(-0.001, )\n",
    "#plt.ylim(5000, )\n",
    "plt.show()\n"
   ]
  },
  {
   "cell_type": "code",
   "execution_count": null,
   "metadata": {
    "collapsed": true
   },
   "outputs": [],
   "source": []
  }
 ],
 "metadata": {
  "kernelspec": {
   "display_name": "Python 2",
   "language": "python",
   "name": "python2"
  },
  "language_info": {
   "codemirror_mode": {
    "name": "ipython",
    "version": 2
   },
   "file_extension": ".py",
   "mimetype": "text/x-python",
   "name": "python",
   "nbconvert_exporter": "python",
   "pygments_lexer": "ipython2",
   "version": "2.7.11+"
  }
 },
 "nbformat": 4,
 "nbformat_minor": 0
}
