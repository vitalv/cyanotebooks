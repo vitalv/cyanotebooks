{
 "cells": [
  {
   "cell_type": "markdown",
   "metadata": {
    "deletable": true,
    "editable": true
   },
   "source": [
    "# 2 way ANOVA"
   ]
  },
  {
   "cell_type": "code",
   "execution_count": 1,
   "metadata": {
    "collapsed": false,
    "deletable": true,
    "editable": true
   },
   "outputs": [
    {
     "name": "stderr",
     "output_type": "stream",
     "text": [
      "/usr/local/lib/python2.7/dist-packages/matplotlib/__init__.py:872: UserWarning: axes.color_cycle is deprecated and replaced with axes.prop_cycle; please use the latter.\n",
      "  warnings.warn(self.msg_depr % (key, alt_key))\n"
     ]
    }
   ],
   "source": [
    "%matplotlib inline \n",
    "import pandas as pd\n",
    "#from statsmodels.graphics.factorplots import interaction_plot\n",
    "import matplotlib.pyplot as plt\n",
    "from scipy import stats\n",
    "import seaborn as sb\n",
    "import argparse\n",
    "import os,sys,inspect\n",
    "import matplotlib.patches as mpatches #for the plot legend\n",
    "import numpy as np"
   ]
  },
  {
   "cell_type": "markdown",
   "metadata": {
    "deletable": true,
    "editable": true
   },
   "source": [
    "Read file into pandas dataframe using args in command line. For the notebook just hard-type the file and args"
   ]
  },
  {
   "cell_type": "code",
   "execution_count": 2,
   "metadata": {
    "collapsed": false,
    "deletable": true,
    "editable": true
   },
   "outputs": [],
   "source": [
    "parser = argparse.ArgumentParser()\n",
    "parser.add_argument(\"--csv_file\", required=True, help=\"The csv file with factors as columns and independent measurements (peptides) as rows\")\n",
    "parser.add_argument(\"--num_cat_f1\", required=True, type=int, help=\"The number of levels/categories for factor 1\")\n",
    "parser.add_argument(\"--num_cat_f2\", required=True, type=int, help=\"The number of levels/categories for factor 2\")\n",
    "parser.add_argument(\"--num_repl\", required=True, type=int, help=\"The number of observations per each factor 1 x factor 2 combination\")\n",
    "#args = parser.parse_args()\n",
    "#datafile = args.csv_file\n",
    "datafile = \"/home/vital/cyano/Quanti_PeptMatrix.csv\"\n",
    "datafile_basename = os.path.basename(datafile).split(\".\")[0]\n",
    "if not os.path.isfile(datafile):\n",
    "    print \"\\nFile not found: %s \" % datafile + \"\\n\"\n",
    "#num_cat_f1 = args.num_cat_f1\n",
    "num_cat_f1 = 3\n",
    "#num_cat_f2 = args.num_cat_f2\n",
    "num_cat_f2 = 8\n",
    "#num_repl = args.num_repl\n",
    "num_repl= 3\n",
    "\n",
    "data = pd.read_csv(datafile)"
   ]
  },
  {
   "cell_type": "markdown",
   "metadata": {
    "deletable": true,
    "editable": true
   },
   "source": [
    "#### The csv_file columns should be arranged as follows: \n",
    "\n",
    "F1L1_F2L1_R1\\t...\\tF1L1_F2L1_Rn\\tF1L1_F2L2_R1\\t... F1L1_F2L2_Rn\t... F1Ln1_F2L1_R1 ... F1Ln1_F2L1_Rn\tF1Ln1_F2Ln2_R1\t... F1Ln1_F2Ln2_Rn\n",
    "\n",
    "(F: Factor; L: Level; R: Replicate; n1: number of levels for F1; n2: number of levels for F2; n: number of replicates/observations)\n",
    "\n",
    "Example:\n",
    "\n",
    "Factor 1 is Cell_Line, has 2 levels: Melanoma, Colon\n",
    "\n",
    "Factor 2 is Drug, has 3 levels: CT0, DTX, 5FU\n",
    "\n",
    "There are 3 replicates/observations per each cell line x Drug combination \n",
    "\n",
    "The file columns should be:\n",
    "\n",
    "Mel_CT0_1\tMel_CT0_2\tMel_CT0_3\tMel_DTX_1\tMel_DTX_2\tMel_DTX_3\tMel_5FU_1\tMel_5FU_2\tMel_5FU_3 Col_CT0_1\tCol_CT0_2\tCol_CT0_3\tCol_DTX_1\tCol_DTX_2\tCol_DTX_3\tCol_5FU_1\tCol_5FU_2\tCol_5FU_3\n"
   ]
  },
  {
   "cell_type": "markdown",
   "metadata": {
    "deletable": true,
    "editable": true
   },
   "source": [
    "#### Calculate Degrees of Freedom:"
   ]
  },
  {
   "cell_type": "code",
   "execution_count": 3,
   "metadata": {
    "collapsed": true,
    "deletable": true,
    "editable": true
   },
   "outputs": [],
   "source": [
    "def dof(peptide_df):\n",
    "    N = len(peptide_df.dependent_variable)\n",
    "    dof_factor_1 = len(peptide_df.factor_1.unique()) - 1\n",
    "    dof_factor_2 = len(peptide_df.factor_2.unique()) - 1\n",
    "    dof_factor_1_x_factor_2 = dof_factor_1*dof_factor_2 #interaction\n",
    "    dof_w = N - (len(peptide_df.factor_1.unique())*len(peptide_df.factor_2.unique())) #within\n",
    "    return(dof_factor_1, dof_factor_2, dof_factor_1_x_factor_2, dof_w)\n"
   ]
  },
  {
   "cell_type": "markdown",
   "metadata": {
    "deletable": true,
    "editable": true
   },
   "source": [
    "#### Calculate Sum of Squares:"
   ]
  },
  {
   "cell_type": "code",
   "execution_count": 4,
   "metadata": {
    "collapsed": false,
    "deletable": true,
    "editable": true
   },
   "outputs": [],
   "source": [
    "def ssq(data, grand_mean):\n",
    "    #SUM of SQUARES FOR EACH FACTOR (Independent variables: factor_1 AND factor_2): \n",
    "    ssq_factor_1 = sum( [(data[data.factor_1 == f1_category].dependent_variable.mean() - grand_mean)**2 for f1_category in data.factor_1] )\n",
    "    ssq_factor_2 = sum( [(data[data.factor_2 == f2_category].dependent_variable.mean() - grand_mean)**2 for f2_category in data.factor_2] )\n",
    "    #TOTAL SUM OF SQUARES:\n",
    "    ssq_t = sum((data.dependent_variable - grand_mean)**2)\n",
    "\n",
    "    f1_dict = {f1_lvl: data[data.factor_1 == f1_lvl] for f1_lvl in data.factor_1.unique()}\n",
    "    \n",
    "    #For within group variation I need first to estimate means in each treatment group (treatment = each combination of the two factors, f1xf2_dict)\n",
    "    f1xf2_dict = { k: [v[v.factor_2 == f2_c].dependent_variable.mean() for f2_c in v.factor_2] for k, v in f1_dict.iteritems()}\n",
    "\n",
    "    #And GET SSQ_w\n",
    "    ssq_w = 0\n",
    "    for k in f1_dict.keys():\n",
    "        ssq_w += sum((f1_dict[k].dependent_variable - f1xf2_dict[k])**2)\n",
    "\n",
    "    #SUM OF SQUARES OF THE INTERACTION \n",
    "    ssq_factor_1_x_factor_2 = ssq_t-ssq_factor_1-ssq_factor_2-ssq_w\n",
    "    return(ssq_factor_1, ssq_factor_2, ssq_t, ssq_w, ssq_factor_1_x_factor_2)"
   ]
  },
  {
   "cell_type": "markdown",
   "metadata": {
    "deletable": true,
    "editable": true
   },
   "source": [
    "#### Calculate Mean Squares:"
   ]
  },
  {
   "cell_type": "code",
   "execution_count": 5,
   "metadata": {
    "collapsed": true,
    "deletable": true,
    "editable": true
   },
   "outputs": [],
   "source": [
    "def msq(ssq_factor_1, ssq_factor_2, ssq_factor_1_x_factor_2, ssq_w, dof_factor_1, dof_factor_2, dof_factor_1_x_factor_2, dof_w):\n",
    "    msq_factor_1 = ssq_factor_1 / dof_factor_1\n",
    "    msq_factor_2 = ssq_factor_2 / dof_factor_2\n",
    "    msq_factor_1_x_factor_2 = ssq_factor_1_x_factor_2 / dof_factor_1_x_factor_2 #INTERACTION\n",
    "    msq_w = ssq_w/dof_w #WITHIN\n",
    "    return(msq_factor_1, msq_factor_2, msq_factor_1_x_factor_2, msq_w)"
   ]
  },
  {
   "cell_type": "markdown",
   "metadata": {
    "deletable": true,
    "editable": true
   },
   "source": [
    "#### Calculate F-ratio: \n",
    "\n",
    "The F-statistic is simply the mean square for each effect and the interaction divided by the mean square for within (error/residual)."
   ]
  },
  {
   "cell_type": "code",
   "execution_count": 6,
   "metadata": {
    "collapsed": true,
    "deletable": true,
    "editable": true
   },
   "outputs": [],
   "source": [
    "def f_ratio(msq_factor_1, msq_factor_2, msq_factor_1_x_factor_2, msq_w):\n",
    "    f_factor_1 = msq_factor_1/msq_w\n",
    "    f_factor_2 = msq_factor_2/msq_w\n",
    "    f_factor_1_x_factor_2 = msq_factor_1_x_factor_2/msq_w\n",
    "    return(f_factor_1, f_factor_2, f_factor_1_x_factor_2)"
   ]
  },
  {
   "cell_type": "markdown",
   "metadata": {
    "deletable": true,
    "editable": true
   },
   "source": [
    "Create pandas sub-dataframe for each peptide (row in original dataframe)\n",
    "with columns intensity, cell_line, and drug "
   ]
  },
  {
   "cell_type": "code",
   "execution_count": 7,
   "metadata": {
    "collapsed": false,
    "deletable": true,
    "editable": true
   },
   "outputs": [
    {
     "name": "stdout",
     "output_type": "stream",
     "text": [
      "\n",
      "Estimating p-values\n",
      "\n"
     ]
    }
   ],
   "source": [
    "print(\"\\nEstimating p-values\\n\")"
   ]
  },
  {
   "cell_type": "code",
   "execution_count": 8,
   "metadata": {
    "collapsed": false,
    "deletable": true,
    "editable": true
   },
   "outputs": [],
   "source": [
    "for index, row in data.iterrows():\n",
    "    #Get pandas df for each peptide with columns dependent_variable, factor_1 and factor_2:\n",
    "    peptide_df = pd.DataFrame(columns=[\"dependent_variable\", \"factor_1\", \"factor_2\"])\n",
    "    peptide_df.factor_1 = [ \"f1_%s\"%cat_f1 for cat_f1 in range(num_cat_f1) for cat_f2 in range(num_cat_f2) for rep in range(num_repl) ]\n",
    "    peptide_df.factor_2 = [ \"f2_%s\"%cat_f2 for cat_f1 in range(num_cat_f1) for cat_f2 in range(num_cat_f2) for rep in range(num_repl) ]\n",
    "    peptide_df.dependent_variable = row.values[1:]\n",
    "    #get Degrees of Freedom\n",
    "    dof_factor_1, dof_factor_2, dof_factor_1_x_factor_2, dof_w = dof(peptide_df)\n",
    "    #get grand mean Using Pandas DataFrame method mean on the dependent variable only\n",
    "    grand_mean = peptide_df.dependent_variable.mean() #which is simply the mean of all values\n",
    "    #Calculate sum of squares\n",
    "    ssq_factor_1, ssq_factor_2, ssq_t, ssq_w, ssq_factor_1_x_factor_2 = ssq(peptide_df, grand_mean)\n",
    "    #Calculate mean squares\n",
    "    msq_factor_1, msq_factor_2, msq_factor_1_x_factor_2, msq_w = msq(ssq_factor_1, ssq_factor_2, ssq_factor_1_x_factor_2, ssq_w, dof_factor_1, dof_factor_2, dof_factor_1_x_factor_2, dof_w)\n",
    "    #Calculate F-ratio (F-satistic)\n",
    "    f_factor_1, f_factor_2, f_factor_1_x_factor_2 = f_ratio(msq_factor_1, msq_factor_2, msq_factor_1_x_factor_2, msq_w)\n",
    "    #OBTAIN p-values\n",
    "    #scipy.stats method f.sf checks if the obtained F-ratios are above the critical value. \n",
    "    #Use F-value for each effect and interaction as well as the degrees of freedom for them, and the degree of freedom within.\n",
    "    #Null Hypothesis 1:  H0: no difference in means among the groups in factor 1\n",
    "    p_factor_1 = stats.f.sf(f_factor_1, dof_factor_1, dof_w)\n",
    "    #Null Hypothesis 2:  H0: no difference in means among the groups in factor 2\n",
    "    p_factor_2 = stats.f.sf(f_factor_2, dof_factor_2, dof_w)\n",
    "    #Null Hypothesis 3:  H0: cell-lines do not interact with factor_2s in the response\n",
    "    p_factor_1_x_factor_2 = stats.f.sf(f_factor_1_x_factor_2, dof_factor_1_x_factor_2, dof_w)\n",
    "    #ADD rows to the original pandas df with the three pvalues:\n",
    "    data.loc[index, 'p_factor_1'] = p_factor_1\n",
    "    data.loc[index, 'p_factor_2'] = p_factor_2\n",
    "    data.loc[index, 'p_factor_1_x_factor_2'] = p_factor_1_x_factor_2"
   ]
  },
  {
   "cell_type": "markdown",
   "metadata": {
    "collapsed": true,
    "deletable": true,
    "editable": true
   },
   "source": [
    "Create new data set with the extra columns with the p-values"
   ]
  },
  {
   "cell_type": "code",
   "execution_count": 9,
   "metadata": {
    "collapsed": false,
    "deletable": true,
    "editable": true
   },
   "outputs": [],
   "source": [
    "data.to_csv(\"../Quanti_PeptMatrix_p.csv\")\n",
    "#then read it\n",
    "data = pd.read_csv(\"../Quanti_PeptMatrix_p.csv\")"
   ]
  },
  {
   "cell_type": "markdown",
   "metadata": {
    "deletable": true,
    "editable": true
   },
   "source": [
    "#### Histograms of the p values\n",
    "Remove NaNs or hist won't work"
   ]
  },
  {
   "cell_type": "markdown",
   "metadata": {
    "deletable": true,
    "editable": true
   },
   "source": [
    "p values Factor_1"
   ]
  },
  {
   "cell_type": "code",
   "execution_count": 10,
   "metadata": {
    "collapsed": false,
    "deletable": true,
    "editable": true
   },
   "outputs": [
    {
     "data": {
      "text/plain": [
       "<function matplotlib.pyplot.show>"
      ]
     },
     "execution_count": 10,
     "metadata": {},
     "output_type": "execute_result"
    },
    {
     "data": {
      "image/png": "[encoded data removed]",
      "text/plain": [
       "<matplotlib.figure.Figure at 0x7f08973f3cd0>"
      ]
     },
     "metadata": {},
     "output_type": "display_data"
    }
   ],
   "source": [
    "factor1_pval_fig = plt.hist(data.p_factor_1.dropna(), color='blue', bins=50)\n",
    "plt.savefig(\"../img/p_value_cell_line.pdf\")\n",
    "#plt.clf()\n",
    "plt.show"
   ]
  },
  {
   "cell_type": "markdown",
   "metadata": {
    "deletable": true,
    "editable": true
   },
   "source": [
    "p values Factor 2"
   ]
  },
  {
   "cell_type": "code",
   "execution_count": 11,
   "metadata": {
    "collapsed": false,
    "deletable": true,
    "editable": true
   },
   "outputs": [
    {
     "data": {
      "text/plain": [
       "<function matplotlib.pyplot.show>"
      ]
     },
     "execution_count": 11,
     "metadata": {},
     "output_type": "execute_result"
    },
    {
     "data": {
      "image/png": "[encoded data removed]",
      "text/plain": [
       "<matplotlib.figure.Figure at 0x7f08c792ea50>"
      ]
     },
     "metadata": {},
     "output_type": "display_data"
    }
   ],
   "source": [
    "factor2_pval_fig = plt.hist(data.p_factor_2.dropna(), color='green', bins=50)\n",
    "plt.savefig(\"../img/p_value_drug.pdf\")\n",
    "plt.show"
   ]
  },
  {
   "cell_type": "code",
   "execution_count": 12,
   "metadata": {
    "collapsed": false,
    "deletable": true,
    "editable": true
   },
   "outputs": [
    {
     "data": {
      "text/plain": [
       "<function matplotlib.pyplot.show>"
      ]
     },
     "execution_count": 12,
     "metadata": {},
     "output_type": "execute_result"
    },
    {
     "data": {
      "image/png": "[encoded data removed]",
      "text/plain": [
       "<matplotlib.figure.Figure at 0x7f0896dc6b10>"
      ]
     },
     "metadata": {},
     "output_type": "display_data"
    }
   ],
   "source": [
    "interaction_pval_fig = plt.hist(data.p_factor_1_x_factor_2.dropna(), color='red', bins=50)\n",
    "plt.savefig(\"../img/p_value_interaction.pdf\")\n",
    "plt.show"
   ]
  },
  {
   "cell_type": "markdown",
   "metadata": {
    "deletable": true,
    "editable": true
   },
   "source": [
    "#### Bar Plot p-values"
   ]
  },
  {
   "cell_type": "code",
   "execution_count": 13,
   "metadata": {
    "collapsed": false,
    "deletable": true,
    "editable": true
   },
   "outputs": [
    {
     "data": {
      "text/plain": [
       "([<matplotlib.axis.XTick at 0x7f0897549750>,\n",
       "  <matplotlib.axis.XTick at 0x7f089755add0>,\n",
       "  <matplotlib.axis.XTick at 0x7f08973fb810>],\n",
       " <a list of 3 Text xticklabel objects>)"
      ]
     },
     "execution_count": 13,
     "metadata": {},
     "output_type": "execute_result"
    },
    {
     "data": {
      "image/png": "[encoded data removed]",
      "text/plain": [
       "<matplotlib.figure.Figure at 0x7f08973f3990>"
      ]
     },
     "metadata": {},
     "output_type": "display_data"
    }
   ],
   "source": [
    "data = pd.read_csv(\"../Quanti_PeptMatrix_p.csv\")\n",
    "                   \n",
    "groups=[\"Cell Line\", \"Drug\", \"Interaction\"]\n",
    "n=len(groups)\n",
    "\n",
    "f1_p001 = len(data[data.p_factor_1 < 0.01])\n",
    "f1_p005 = len(data[data.p_factor_1 < 0.05])\n",
    "f1_p01 = len(data[data.p_factor_1 < 0.1])\n",
    "f2_p001 = len(data[data.p_factor_2 < 0.01])\n",
    "f2_p005 = len(data[data.p_factor_2 < 0.05])\n",
    "f2_p01 = len(data[data.p_factor_2 < 0.1])\n",
    "f1xf2_p001 = len(data[data.p_factor_1_x_factor_2 < 0.01])\n",
    "f1xf2_p005 = len(data[data.p_factor_1_x_factor_2 < 0.05])\n",
    "f1xf2_p01 = len(data[data.p_factor_1_x_factor_2 < 0.1])\n",
    "\n",
    "\n",
    "p_001 = np.array([f1_p001, f2_p001, f1xf2_p001])\n",
    "p_005 = np.array([f1_p005, f2_p005, f1xf2_p005])\n",
    "p_01 = np.array([f1_p01, f2_p01, f1xf2_p01])\n",
    "\n",
    "ind=np.arange(n)\n",
    "width=0.35\n",
    "\n",
    "p01 = plt.bar(ind, p_01, width, color=\"blue\")\n",
    "p005 = plt.bar(ind, p_005, width, color=\"green\")\n",
    "p001 = plt.bar(ind, p_001, width, color=\"cyan\")\n",
    "\n",
    "cyan_patch = mpatches.Patch(color='cyan', label='p val < 0.01')\n",
    "green_patch = mpatches.Patch(color='green', label='p val < 0.05')\n",
    "blue_patch = mpatches.Patch(color='blue', label='p val < 0.1')\n",
    "\n",
    "plt.legend(handles=[cyan_patch, green_patch, blue_patch])\n",
    "\n",
    "plt.ylabel(\"num peptides\")\n",
    "\n",
    "plt.xticks(ind+width/2,(\"Cell Line\", \"Drug\", \"Interaction\"))\n",
    "#plt.clf()"
   ]
  },
  {
   "cell_type": "markdown",
   "metadata": {
    "collapsed": true,
    "deletable": true,
    "editable": true
   },
   "source": [
    "RECALCULATE p-values AS q-values \n",
    "\n",
    "(https://github.com/nfusi/qvalue )\n",
    "\n",
    "calculates pi0 and q_values as suggested in Storey and Tibshirani, 2003"
   ]
  },
  {
   "cell_type": "code",
   "execution_count": 14,
   "metadata": {
    "collapsed": false,
    "deletable": true,
    "editable": true
   },
   "outputs": [],
   "source": [
    "currentdir = os.path.dirname(os.path.abspath(inspect.getfile(inspect.currentframe())))\n",
    "parentdir = os.path.dirname(currentdir)\n",
    "sys.path.insert(0,parentdir + '/src') \n",
    "import qvalue #put __init__.py in lib folder and qvalue.py in same folder as  2wayANOVA.py\n",
    "\n",
    "q_factor_1 = qvalue.estimate(data.p_factor_1)\n",
    "q_factor_2 = qvalue.estimate(data.p_factor_2)\n",
    "q_factor_1_x_factor_2 = qvalue.estimate(data.p_factor_1_x_factor_2)"
   ]
  },
  {
   "cell_type": "markdown",
   "metadata": {
    "deletable": true,
    "editable": true
   },
   "source": [
    "And write new columns with q values"
   ]
  },
  {
   "cell_type": "code",
   "execution_count": 15,
   "metadata": {
    "collapsed": true,
    "deletable": true,
    "editable": true
   },
   "outputs": [],
   "source": [
    "data['q_factor_1'] = q_factor_1\n",
    "data['q_factor_2'] = q_factor_2\n",
    "data['q_factor_1_x_factor_2'] = q_factor_1_x_factor_2"
   ]
  },
  {
   "cell_type": "markdown",
   "metadata": {
    "collapsed": true,
    "deletable": true,
    "editable": true
   },
   "source": [
    "And write again the data to csv:"
   ]
  },
  {
   "cell_type": "code",
   "execution_count": 16,
   "metadata": {
    "collapsed": true,
    "deletable": true,
    "editable": true
   },
   "outputs": [],
   "source": [
    "data.to_csv(\"../Quanti_PeptMatrix_p_q.csv\")"
   ]
  },
  {
   "cell_type": "markdown",
   "metadata": {
    "deletable": true,
    "editable": true
   },
   "source": [
    "#### Plot q-values"
   ]
  },
  {
   "cell_type": "code",
   "execution_count": 17,
   "metadata": {
    "collapsed": false,
    "deletable": true,
    "editable": true
   },
   "outputs": [
    {
     "data": {
      "image/png": "[encoded data removed]",
      "text/plain": [
       "<matplotlib.figure.Figure at 0x7f0896c9d490>"
      ]
     },
     "metadata": {},
     "output_type": "display_data"
    }
   ],
   "source": [
    "data = pd.read_csv(\"../Quanti_PeptMatrix_p_q.csv\")\n",
    "\n",
    "bins = np.linspace(0,0.1,1000)\n",
    "\n",
    "freq_q_factor_1 = {}\n",
    "for i in bins:\n",
    "    freq_q_factor_1[round(i,4)] = sum(1 for qval in list(data.q_factor_1) if float(qval) < i)\n",
    "plt.scatter(freq_q_factor_1.keys(), freq_q_factor_1.values(), color='blue')\n",
    "\n",
    "freq_q_factor_2 = {}\n",
    "for i in bins:\n",
    "    freq_q_factor_2[round(i,4)] = sum(1 for qval in list(data.q_factor_2) if float(qval) < i)\n",
    "plt.scatter(freq_q_factor_2.keys(), freq_q_factor_2.values(), color='green')\n",
    "\n",
    "freq_q_interaction = {}\n",
    "for i in bins:\n",
    "    freq_q_interaction[round(i,4)] = sum(1 for qval in list(data.q_factor_1_x_factor_2) if float(qval) < i)\n",
    "plt.scatter(freq_q_interaction.keys(), freq_q_interaction.values(), color='red')\n",
    "\n",
    "\n",
    "plt.title(\"q values\")\n",
    "blue_patch = mpatches.Patch(color='blue', label='Cell Line')\n",
    "green_patch = mpatches.Patch(color='green', label='Drug')\n",
    "red_patch = mpatches.Patch(color='red', label='Interaction')\n",
    "plt.legend(handles=[blue_patch, green_patch, red_patch])\n",
    "plt.show()"
   ]
  },
  {
   "cell_type": "code",
   "execution_count": 18,
   "metadata": {
    "collapsed": false,
    "deletable": true,
    "editable": true
   },
   "outputs": [
    {
     "data": {
      "image/png": "[encoded data removed]",
      "text/plain": [
       "<matplotlib.figure.Figure at 0x7f0896d65750>"
      ]
     },
     "metadata": {},
     "output_type": "display_data"
    }
   ],
   "source": [
    "f1_q005 = len(data[data.q_factor_1 < 0.05]) \n",
    "\n",
    "f2_q005 = len(data[data.q_factor_2 < 0.05]) \n",
    "\n",
    "f1_f2_q005 = len(data[data.q_factor_1_x_factor_2 < 0.05]) \n",
    "plt.bar([1,2,3], [f1_q005, f2_q005, f1_f2_q005])\n",
    "plt.xticks([1.5, 2.5, 3.5],(\"Cell Line\",\"Drug\", \"Interaction\"))\n",
    "plt.ylabel(\"num peptides q-val < 0.05\")\n",
    "plt.show()\n",
    "#plt.savefig(\"num_peptides_q005.pdf\")"
   ]
  },
  {
   "cell_type": "code",
   "execution_count": null,
   "metadata": {
    "collapsed": true,
    "deletable": true,
    "editable": true
   },
   "outputs": [],
   "source": [
    " "
   ]
  }
 ],
 "metadata": {
  "celltoolbar": "Raw Cell Format",
  "kernelspec": {
   "display_name": "Python 2",
   "language": "python",
   "name": "python2"
  },
  "language_info": {
   "codemirror_mode": {
    "name": "ipython",
    "version": 2
   },
   "file_extension": ".py",
   "mimetype": "text/x-python",
   "name": "python",
   "nbconvert_exporter": "python",
   "pygments_lexer": "ipython2",
   "version": "2.7.12+"
  }
 },
 "nbformat": 4,
 "nbformat_minor": 0
}
