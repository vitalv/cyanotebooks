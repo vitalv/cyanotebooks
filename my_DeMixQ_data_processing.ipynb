{
 "cells": [
  {
   "cell_type": "code",
   "execution_count": 9,
   "metadata": {
    "collapsed": false
   },
   "outputs": [],
   "source": [
    "%matplotlib inline \n",
    "\n",
    "from __future__ import division\n",
    "import pandas, numpy, csv, re\n",
    "\n",
    "import matplotlib.pyplot as plt\n",
    "import matplotlib.pylab as pylab\n",
    "\n",
    "from cStringIO import StringIO\n",
    "from sklearn.neighbors import KNeighborsRegressor\n",
    "from scipy.stats import pearsonr\n",
    "\n",
    "import seaborn as sb\n",
    "import matplotlib.patches as mpatches #for the plot legend\n",
    "import os\n",
    "import collections"
   ]
  },
  {
   "cell_type": "markdown",
   "metadata": {},
   "source": [
    "This my adaptation of Bo's suggested DeMixQ processing.\n",
    "\n",
    "Uses as input a subset of the FITExP dataset. DeMixQ is run in TOPPAS. \n",
    "Requires a consensus csv file of the aligned and matched features across all maps and the EICExtractor output file\n",
    "where ion signals are recovered from a window of RT and mz around the consensus features"
   ]
  },
  {
   "cell_type": "code",
   "execution_count": 2,
   "metadata": {
    "collapsed": true
   },
   "outputs": [],
   "source": [
    "consensus_txt = r\"/home/vital/FITExP_dataset/deMixQ_FITExP_subset/TOPPAS_out_FeaturePIP_IonPIP/015-TextExporter-out/CMV_10march013_a375_5fu_a_72h_set2_rep5.csv\"\n",
    "eic_txt = r\"/home/vital/FITExP_dataset/deMixQ_FITExP_subset/TOPPAS_out_FeaturePIP_IonPIP/019-EICExtractor-out/CMV_10march013_a375_5fu_a_72h_set2_rep5.csv\""
   ]
  },
  {
   "cell_type": "code",
   "execution_count": 12,
   "metadata": {
    "collapsed": true
   },
   "outputs": [],
   "source": [
    "num_samples = 4\n",
    "num_replica = 3"
   ]
  },
  {
   "cell_type": "code",
   "execution_count": 6,
   "metadata": {
    "collapsed": false
   },
   "outputs": [],
   "source": [
    "def read_consensus(fn):\n",
    "    '''\n",
    "    Read text table from consensusXML exported by OpenMS TextExporter\n",
    "    '''\n",
    "    cons_header = []\n",
    "    pept_header = []\n",
    "    runs_name = []\n",
    "\n",
    "    # fetch the headers for consensus features, unassigned peptides and experiments' names. \n",
    "    for row in csv.reader(open(fn), delimiter='\\t'):\n",
    "        if row[0] == '#CONSENSUS':\n",
    "            cons_header = row\n",
    "        elif row[0] == '#UNASSIGNEDPEPTIDE':\n",
    "            pept_header = row\n",
    "        elif row[0] == 'MAP':\n",
    "            runs_name.append(row[2].split(\"/\")[-1].split(\".\")[0])\n",
    "\n",
    "    # read consensus features\n",
    "    s = StringIO()\n",
    "    with open(fn) as fh:\n",
    "        for line in fh:\n",
    "            if line.startswith(\"CONSENSUS\"):\n",
    "                s.write(line)\n",
    "    s.seek(0)\n",
    "    cons = pandas.read_csv(s, sep='\\t', header=None, names=cons_header)\n",
    "    co_peps = []\n",
    "    with open(fn) as fh:\n",
    "        for line in fh:\n",
    "            if line.startswith(\"CONSENSUS\"):\n",
    "                co_peps.append('')\n",
    "            elif line.startswith('PEPTIDE') and co_peps[-1] == '':\n",
    "                # choose the first recorded peptide sequence as consensus sequence\n",
    "                co_peps[-1] = line.split(\"\\t\")[5]\n",
    "    cons['peptide_0'] = co_peps\n",
    "\n",
    "    # read uassigned peptides as consensus features\n",
    "    s = StringIO()\n",
    "    with open(fn) as fh:\n",
    "        for line in fh:\n",
    "            if line.startswith(\"UNASSIGNEDPEPTIDE\"):\n",
    "                s.write(line)\n",
    "    s.seek(0)\n",
    "    ua_peps = pandas.read_csv(s, sep='\\t', header=None, names=pept_header)\n",
    "    ua_peps = ua_peps.groupby(['sequence', 'charge']).mean()\n",
    "\n",
    "    return cons, ua_peps, runs_name"
   ]
  },
  {
   "cell_type": "code",
   "execution_count": 4,
   "metadata": {
    "collapsed": true
   },
   "outputs": [],
   "source": [
    "def read_eic(fn):\n",
    "    '''\n",
    "    Read the detailed output file from EIC extraction in OpenMS.\n",
    "    Two isotopic peaks (M and M+1) are extracted for each consensus feature and unassigned peptide\n",
    "    Calculate geometric average of intensities from the two isotopic peaks, as well as diviations of RT and mass.\n",
    "    '''\n",
    "\n",
    "    with open(fn) as fh:\n",
    "        eic_str = [StringIO() for _ in range(4)]\n",
    "        sample_header = [i for i in fh.next().rstrip().split(',') if i] # sample row\n",
    "        fh.next() # empty row\n",
    "        cols = fh.next().rstrip().split(',') # quantity headers\n",
    "        for ix in range(2, len(cols)):\n",
    "            i = int((ix-2)/5)\n",
    "            cols[ix] = '_'.join([sample_header[i], cols[ix]]) # rename columns according to sample names\n",
    "\n",
    "        ix = 0\n",
    "        for line in fh:\n",
    "            eic_str[ix % 4].write(line)\n",
    "            ix += 1\n",
    "\n",
    "        [sio.seek(0) for sio in eic_str]\n",
    "\n",
    "    # obtain quantities from M and M+1 of target and decoy features, separately.\n",
    "    eic = pandas.read_csv(eic_str[0], header=None, names=cols) # Monoisotopic    \n",
    "    eic_iso = pandas.read_csv(eic_str[1], header=None, names=cols) # 13C isotope\n",
    "    eic_decoy0 = pandas.read_csv(eic_str[2], header=None, names=cols)\n",
    "    eic_decoy1 = pandas.read_csv(eic_str[3], header=None, names=cols)\n",
    "    \n",
    "    for samp in sample_header:\n",
    "        int_ix = samp + '_intensity'\n",
    "        rt_ix = samp + '_dRT'\n",
    "        ppm_ix = samp + '_dppm'\n",
    "\n",
    "        # values of target features\n",
    "        eic[samp + '_int_1'] = (eic[int_ix] * eic_iso[int_ix]) ** 0.5\n",
    "        eic[samp + '_dRT_1'] = eic[rt_ix] - eic_iso[rt_ix]\n",
    "        eic[samp + '_ppm_1'] = eic[ppm_ix] - eic_iso[ppm_ix]\n",
    "\n",
    "        # values of decoy features\n",
    "        eic[samp + '_int_d1'] = (eic_decoy0[int_ix] * eic_decoy1[int_ix]) ** 0.5\n",
    "        eic[samp + '_dRT_d0'] = eic_decoy0[rt_ix] \n",
    "        eic[samp + '_dRT_d1'] = eic_decoy0[rt_ix] - eic_decoy1[rt_ix]\n",
    "        eic[samp + '_ppm_d0'] = eic_decoy0[ppm_ix]\n",
    "        eic[samp + '_ppm_d1'] = eic_decoy0[ppm_ix] - eic_decoy1[ppm_ix]\n",
    "\n",
    "    return eic"
   ]
  },
  {
   "cell_type": "code",
   "execution_count": 5,
   "metadata": {
    "collapsed": true
   },
   "outputs": [],
   "source": [
    "def median_shift(dat, rcol, scol, knn=15, span=500):\n",
    "    '''\n",
    "    Predict median shift (fold-change) of ion intensity at a given RT, using KNN regression\n",
    "    rcol: column of global medians\n",
    "    scol: columm of extracted intensities of one sample\n",
    "    knn:  number of k nearest neighbors  \n",
    "    span: number of features for median shift calculation. \n",
    "    '''\n",
    "\n",
    "    d = dat[(dat[scol] > 0) & (dat[rcol] > 0)].sort(columns=['rt_cf'])\n",
    "    \n",
    "    x = d['rt_cf'].values\n",
    "    y = numpy.log2(d[scol] / d[rcol]) # fold-change\n",
    "\n",
    "    X = numpy.array([numpy.mean(x[i:i+span]) for i in range(0, len(x), int(span/10))])\n",
    "    y = numpy.array([numpy.median(y[i:i+span]) for i in range(0, len(x),int(span/10))])\n",
    "    reg = KNeighborsRegressor(n_neighbors=knn)\n",
    "    reg.fit(numpy.matrix(X).T, numpy.matrix(y).T)\n",
    "    \n",
    "    return reg, X, y"
   ]
  },
  {
   "cell_type": "code",
   "execution_count": 7,
   "metadata": {
    "collapsed": true
   },
   "outputs": [],
   "source": [
    "eic = read_eic(eic_txt)\n",
    "cons, uapep, ic0 = read_consensus(consensus_txt)\n",
    "ic0 = sorted(ic0)\n",
    "\n",
    "# replace Intensity Column names\n",
    "icols = [i for i in cons.columns if i.startswith('intensity_')]\n",
    "cons = cons[icols + ['quality_cf', 'peptide_0', 'charge_cf', 'rt_cf', 'mz_cf']]\n",
    "cons.rename(columns=dict(zip(icols[1:], ic0)), inplace=True)\n",
    "\n",
    "# please pardon me for the confusing variable namings here.\n",
    "# ic1x => feature Intensity Column 1 :XIC (geometric average of M and M+1) \n",
    "ic1x = sorted([i for i in eic.columns if i.endswith('int_1')])\n",
    "\n",
    "# column names of consensus (targets)\n",
    "#crt0 => rt difference between consensus f and found eic\n",
    "crt0 = sorted([i for i in eic.columns if i.endswith('dRT')])\n",
    "#crt1 => rt difference between monoisotopic found eic and C13 found eic\n",
    "crt1 = sorted([i for i in eic.columns if i.endswith('dRT_1')])\n",
    "#cppm0 => mz difference (in ppm) between consensus f and found eic\n",
    "cppm0 = sorted([i for i in eic.columns if i.endswith('ppm')])\n",
    "#cppm1 => mz difference (in ppm) between monoisotopic found eic and C13 found eic\n",
    "cppm1 = sorted([i for i in eic.columns if i.endswith('ppm_1')])\n",
    "\n",
    "# column names of decoys\n",
    "dic1x = sorted([i for i in eic.columns if i.endswith('int_d1')])\n",
    "drt0 = sorted([i for i in eic.columns if i.endswith('dRT_d0')])\n",
    "drt1 = sorted([i for i in eic.columns if i.endswith('dRT_d1')])\n",
    "dppm0 = sorted([i for i in eic.columns if i.endswith('ppm_d0')])\n",
    "dppm1 = sorted([i for i in eic.columns if i.endswith('ppm_d1')])"
   ]
  },
  {
   "cell_type": "code",
   "execution_count": 8,
   "metadata": {
    "collapsed": false
   },
   "outputs": [
    {
     "name": "stdout",
     "output_type": "stream",
     "text": [
      "number of features:\t220944\n",
      "number of runs:\t12\n"
     ]
    }
   ],
   "source": [
    "# combine Feature and XIC into dataframe_X\n",
    "dx = pandas.concat([eic, cons], axis=1)\n",
    "dx['peptide_0'] = [i for i in cons.peptide_0]  + [ i[0] for i in uapep.index.tolist()]\n",
    "dx['charge_cf'] = [i for i in cons.charge_cf]  + [ i[1] for i in uapep.index.tolist()]\n",
    "dx['mz_cf'] = [i for i in cons.mz_cf] + uapep.mz.tolist()\n",
    "dx['rt_cf'] = [i for i in cons.rt_cf] + uapep.rt.tolist()\n",
    "dx = dx[dx.rt_cf > 0]\n",
    "\n",
    "dx['peptide'] = [ re.sub('C\\(Carbamidomethyl\\)', 'C', str(i)) for i in dx.peptide_0]\n",
    "dx['baseseq'] = [ re.sub('\\(.+?\\)', '', str(i)) for i in dx.peptide_0]\n",
    "\n",
    "dx['mods'] = [ sorted(re.findall('\\(.+?\\)', str(i))) for i in dx.peptide ]\n",
    "dx['uniq'] = [ \"%s%d%s\" % (x.baseseq, x.charge_cf, ''.join(x.mods)) for i, x in dx.iterrows()]\n",
    "\n",
    "# cross-run quantifications from feature-based linking.\n",
    "dx['f_overlap'] = [ numpy.count_nonzero(numpy.nan_to_num(i)) for i in dx[ic0].values ]\n",
    "# cross-run quantifications from ion-based linking. \n",
    "dx['e_overlap'] = [ numpy.count_nonzero(i) for i in dx[ic1x].values ]\n",
    "# median intensity in each individual run\n",
    "dx['medianEIC'] = dx[ic1x].median(axis=1)\n",
    "\n",
    "print \"number of features:\\t\", len(dx)\n",
    "print \"number of runs:\\t\", len(ic1x)"
   ]
  },
  {
   "cell_type": "code",
   "execution_count": 10,
   "metadata": {
    "collapsed": false
   },
   "outputs": [
    {
     "name": "stdout",
     "output_type": "stream",
     "text": [
      "51.8565036898 % of  198249\n"
     ]
    }
   ],
   "source": [
    "# XIC extraction rate for consensus features\n",
    "e = numpy.array(dx[dx.intensity_cf.isnull() == False].e_overlap).tolist() \n",
    "print e.count(len(ic1x)) * 100 / len(e), \"% of \", len(e)\n",
    "#Of all the consensus features (identified or not), for this % I can find ion signal (EIC extraction) \n",
    "# in all the runs"
   ]
  },
  {
   "cell_type": "code",
   "execution_count": 13,
   "metadata": {
    "collapsed": false
   },
   "outputs": [],
   "source": [
    "# Reference set: consensus features with no missing values in both feature linking and XIC extraction\n",
    "refdx = dx[(dx.f_overlap ==len(ic0)) & (dx.e_overlap == len(ic0))]\n",
    "\n",
    "#crt0 => rt difference between consensus f and found eic (DeltaT1 in the paper)\n",
    "#crt1 => rt difference between monoisotopic found eic and C13 found eic, (DeltaT2 in the paper)\n",
    "#cppm0 => mz difference (in ppm) between consensus f and found eic (DeltaM1 in the paper)\n",
    "#cppm1 => mz difference (in ppm) between monoisotopic found eic-signal and C13 found eic-signal (DeltaM2)\n",
    "fcol = numpy.concatenate([crt0, crt1, cppm0, cppm1])\n",
    "dcol = numpy.concatenate([drt0, drt1, dppm0, dppm1])\n",
    "\n",
    "# unit-less transformation. From the paper:\n",
    "#Since these factors have different units and intervals of changes,#are normalized by their own stdev \n",
    "#and thus converted to unitless quantities that can be simply combined\n",
    "\n",
    "refz = (refdx[fcol] - refdx[fcol].mean()) / refdx[fcol].std()\n",
    "decoyz = (refdx[dcol] - refdx[fcol].mean().values) / refdx[fcol].std().values\n",
    "testz = (dx[fcol] - refdx[fcol].mean()) / refdx[fcol].std()\n",
    "\n",
    "for i in numpy.array(ic1x).reshape(num_samples, num_replica):\n",
    "    cv = refdx[i].std(axis=1) / refdx[i].mean(axis=1)\n",
    "    cv = numpy.sqrt(cv)\n",
    "    for run_id in i:\n",
    "        refz[run_id + '_cv'] = cv\n",
    "\n",
    "for i in numpy.array(dic1x).reshape(num_samples, num_replica):\n",
    "    cv = refdx[i].std(axis=1) / refdx[i].mean(axis=1)\n",
    "    cv = numpy.sqrt(cv)\n",
    "    for run_id in i:\n",
    "        decoyz[run_id + '_cv'] = cv\n",
    "\n",
    "for i in numpy.array(ic1x).reshape(num_samples, num_replica):\n",
    "    cv = dx[i].std(axis=1) / dx[i].mean(axis=1)\n",
    "    cv = numpy.sqrt(cv)\n",
    "    for run_id in i:\n",
    "        testz[run_id + '_cv'] = cv\n",
    "\n",
    "ccv = [i for i in refz.columns if i.endswith('cv')]\n",
    "dcv = [i for i in decoyz.columns if i.endswith('cv')]\n",
    "\n",
    "#For the Reference set:\n",
    "#average difference, for each sample, between the consensus mz and the extracted ion mz. \n",
    "#print refdx[cppm0].mean()\n",
    "\n",
    "#STD, for each sample, between the consensus mz and the extracted ion mz\n",
    "#print refdx[cppm0].std()\n",
    "\n",
    "#And for the whole set:\n",
    "#print dx[cppm0].mean()\n",
    "#print dx[cppm0].std()\n",
    "\n",
    "#average difference, for each sample, between the consensus RT and the extracted ion RT\n",
    "#print refdx[crt0].mean()\n",
    "#STD, for each sample, between the consensus mz and the extracted ion mz\n",
    "#print refdx[crt0].std()\n",
    "\n",
    "#And for the whole set:\n",
    "#print dx[crt0].mean()\n",
    "#print dx[crt0].std()"
   ]
  },
  {
   "cell_type": "code",
   "execution_count": 14,
   "metadata": {
    "collapsed": true
   },
   "outputs": [],
   "source": [
    "fil_cols = zip(ic1x, crt0, crt1, cppm0, cppm1, ccv)\n",
    "fil_cols_decoy = zip(dic1x, drt0, drt1, dppm0, dppm1, dcv)\n",
    "\n",
    "\n",
    "zscores = []\n",
    "for f in fil_cols:\n",
    "    e = refdx[f[0]] > 0\n",
    "    rz = refz[e]\n",
    "    z = [numpy.sum(v*v) for v in rz[list(f[1:])].values]\n",
    "    zscores = zscores + z\n",
    "\n",
    "dzscores = []\n",
    "for f in fil_cols_decoy:\n",
    "    e = refdx[f[0]] > 0\n",
    "    dd = decoyz[e]\n",
    "    z = [numpy.sum(v*v) for v in dd[list(f[1:])].values]\n",
    "    dzscores = dzscores + z"
   ]
  },
  {
   "cell_type": "code",
   "execution_count": 15,
   "metadata": {
    "collapsed": false
   },
   "outputs": [
    {
     "data": {
      "image/png": "[encoded data removed]",
      "text/plain": [
       "<matplotlib.figure.Figure at 0x7fd1ef9bb390>"
      ]
     },
     "metadata": {},
     "output_type": "display_data"
    }
   ],
   "source": [
    "###PLOT FDR ION-PIP Score\n",
    "bins = numpy.arange(-6.6, 4.5, 0.1)\n",
    "pandas.Series(-numpy.log(zscores)).hist(bins=bins, alpha = 0.5, color ='b', lw=0, label='Target')\n",
    "pandas.Series(-numpy.log(dzscores)).hist(bins=bins, alpha = 0.5, color='r', lw=0, label='Decoy')\n",
    "# pandas.Series(-numpy.log(tzscores)).hist(bins=bins, alpha = 0.3, color='y', lw=0, label='All')\n",
    "plt.legend()\n",
    "plt.xlabel('Score')\n",
    "plt.ylabel('# Features')\n",
    "plt.show()"
   ]
  },
  {
   "cell_type": "code",
   "execution_count": 20,
   "metadata": {
    "collapsed": false
   },
   "outputs": [
    {
     "name": "stdout",
     "output_type": "stream",
     "text": [
      "cutoff score: -2.21166096557\n"
     ]
    },
    {
     "name": "stderr",
     "output_type": "stream",
     "text": [
      "/usr/local/lib/python2.7/dist-packages/ipykernel/__main__.py:24: SettingWithCopyWarning: \n",
      "A value is trying to be set on a copy of a slice from a DataFrame\n",
      "\n",
      "See the caveats in the documentation: http://pandas.pydata.org/pandas-docs/stable/indexing.html#indexing-view-versus-copy\n"
     ]
    },
    {
     "name": "stdout",
     "output_type": "stream",
     "text": [
      "Features before filtering:\t220944\n"
     ]
    }
   ],
   "source": [
    "score_list = sorted(zip(zscores + dzscores, [0 for i in zscores] + [1 for i in zscores]), key=lambda x: x[0])\n",
    "score_cutoff = 0\n",
    "hit_count = 0\n",
    "decoy_count = 0\n",
    "\n",
    "# set FDR threshold \n",
    "fdr = 0.05\n",
    "for s in score_list:\n",
    "    hit_count += 1\n",
    "    score_cutoff = -numpy.log(s[0])\n",
    "    if s[1] > 0:\n",
    "        decoy_count += 1\n",
    "    if decoy_count / hit_count >= fdr:\n",
    "        print \"cutoff score:\", score_cutoff\n",
    "        break\n",
    "        \n",
    "#FILTER: Set to 0 extracted intensitiy for those features that have scores lower than score_cutoff:\n",
    "\n",
    "#fil_cols = zip(ic1x, crt0, crt1, cppm0, cppm1, ccv)\n",
    "# ic1x => EIC Intensity Column 1 :XIC (geometric average of M and M+1) \n",
    "for f in fil_cols:\n",
    "    score = numpy.array([numpy.sum(v*v) for v in testz[list(f[1:])].values])\n",
    "    score = -numpy.log(score)\n",
    "    dx[f[0]][list(score <= score_cutoff)] = 0 \n",
    "    # XIC filter: \"The features that failed to pass the threshold were considered missing (zero-intensity)\"\n",
    "\n",
    "#dx['medianEIC'] = dx[dx[ic1x] > 0][ic1x].median(axis=1) #watch out : memory error!\n",
    "dx['e_overlap'] = [ numpy.count_nonzero(i) for i in dx[ic1x].values ]\n",
    "\n",
    "print \"Features before filtering:\\t\", len(dx)     \n"
   ]
  },
  {
   "cell_type": "code",
   "execution_count": 21,
   "metadata": {
    "collapsed": false
   },
   "outputs": [
    {
     "name": "stdout",
     "output_type": "stream",
     "text": [
      "Features after filtering:\t70551\n",
      "Unique peptide sequences:\t17562\n"
     ]
    }
   ],
   "source": [
    "#Remove features that failed to be quantified in at least one replicate in each sample:\n",
    "\n",
    "ix = numpy.min([numpy.mean(dx[i].values, axis=1) for i in numpy.array(ic1x).reshape(num_samples, num_replica)], axis=0) > 0 \n",
    "\n",
    "dx = dx[ix]\n",
    "\n",
    "print \"Features after filtering:\\t\", len(dx)\n",
    "print \"Unique peptide sequences:\\t\", len(dx.baseseq.unique())"
   ]
  },
  {
   "cell_type": "code",
   "execution_count": 22,
   "metadata": {
    "collapsed": false
   },
   "outputs": [
    {
     "name": "stdout",
     "output_type": "stream",
     "text": [
      "CMV_10march013_a375_5fu_a_72h_set2_rep5.mzML_int_1 34424 0.880138854972\n",
      "CMV_10march013_a375_5fu_d_72h_set2_rep2.mzML_int_1 29690 0.88553732436\n",
      "CMV_10march013_a375_5fu_d_march_72h_set2_rep4.mzML_int_1 30871 0.888260929527\n",
      "CMV_10march013_a375_doxo_a_72h_set2_rep5.mzML_int_1 34303 0.881762025691\n",
      "CMV_10march013_a375_doxo_d_72h_set2_rep2.mzML_int_1 30789 0.885501590473\n",
      "CMV_10march013_a375_doxo_d_march_72h_set2_rep4.mzML_int_1 29929 0.873596055605\n",
      "CMV_10march013_h1299_5fu_72h_set3_rep1.mzML_int_1 32186 0.866576768241\n",
      "CMV_10march013_h1299_5fu_72h_set3_rep2.mzML_int_1 29825 0.872439962806\n",
      "CMV_10march013_h1299_5fu_72h_set3_rep3.mzML_int_1 32003 0.877747352459\n",
      "CMV_10march013_h1299_doxo_72h_set3_rep1.mzML_int_1 20966 0.82949334341\n",
      "CMV_10march013_h1299_doxo_72h_set3_rep2.mzML_int_1 23483 0.840076585219\n",
      "CMV_10march013_h1299_doxo_72h_set3_rep3.mzML_int_1 23261 0.850729404065\n"
     ]
    }
   ],
   "source": [
    "# Remove problematic runs with low correlation between feature abundance and XIC intensity.\n",
    "\n",
    "icols = zip(ic0, ic1x)\n",
    "for a in icols[:]:\n",
    "    do = dx[pandas.notnull(dx[a[0]])]\n",
    "    do = do[do[a[1]] > 0]\n",
    "    xy = do[list(a)].apply(numpy.log2).values\n",
    "    r2 = pearsonr(xy[:,0], xy[:, 1])[0] ** 2\n",
    "    print a[1], len(xy), r2\n",
    "    \n",
    "    if r2 < 0.5:\n",
    "        icols.remove(a)\n",
    "        print a, \" has been removed due to low correlation.\""
   ]
  },
  {
   "cell_type": "code",
   "execution_count": 26,
   "metadata": {
    "collapsed": false
   },
   "outputs": [
    {
     "data": {
      "image/png": "[encoded data removed]",
      "text/plain": [
       "<matplotlib.figure.Figure at 0x7fd1f38636d0>"
      ]
     },
     "metadata": {},
     "output_type": "display_data"
    }
   ],
   "source": [
    "#Compare peptides/run obtained with deMixQ vs only feature-based PIP vs Identified (MS/MS, spectral count) #########################\n",
    "\n",
    "# Output from FeatureLinkerUnlabeldQT -> ProteinQuantifier is a list of features WITH an assigned peptide.\n",
    "# So, to make a fair comparison, pick feature and ion pip from dx WITH an assigned peptide:\n",
    "dx_pep = dx[dx.baseseq != '']\n",
    "dx_pep.drop_duplicates(subset=['uniq'], inplace=True)\n",
    "dx_pep = dx_pep[ic0+ic1x+['baseseq', 'intensity_cf', 'mz_cf', 'rt_cf']]\n",
    "#CHECK, For each sample, That either intensity_cf or intensity_i are present (or both) . In that case it is considered quantified in that sample:\n",
    "icols = zip(ic0, ic1x)\n",
    "\n",
    "for a, b in icols:\n",
    "    dx_pep[a+\"_q\"] = dx_pep[a].fillna(0) + dx_pep[b]\n",
    "q_cols = [c for c in dx_pep.columns if c.endswith(\"_q\")]\n",
    "dx_pep[\"f_e_overlap\"] = [numpy.count_nonzero(i) for i in dx_pep[q_cols].values ]\n",
    "dx_pep = dx_pep[dx_pep[\"f_e_overlap\"] > 0 ]\n",
    "\n",
    "#1-DeMixQ-count (Feature based PIP + Ion based PIP)\n",
    "demixq_pip_count = [list(dx_pep.f_e_overlap > i).count(True) for i in range(len(ic0)) ]\n",
    "percent_demixq_pip = [i*100/max(demixq_pip_count) for i in demixq_pip_count]\n",
    "\n",
    "#2-Feature-based PIP (OpenMS: FeatureLinkerUnlabeledQT + ProteinQuantifier)\n",
    "feature_pip = pandas.read_csv('/home/vital/FITExP_dataset/deMixQ_FITExP_subset/TOPPAS_out_FeaturePIP/ProteinQuantifier-out/quanti_pept_matrix.csv', skiprows=3, sep=\"\\t\")\n",
    "abundance_cols = [c for c in feature_pip.columns if c.startswith(\"abundance\")]\n",
    "feature_pip[\"quant_count\"] = [numpy.count_nonzero(numpy.nan_to_num(i)) for i in feature_pip[abundance_cols].values ]\n",
    "feature_pip_count = [list(feature_pip.quant_count > i).count(True) for i in range(len(abundance_cols))]\n",
    "percent_feature_pip = [i*100/max(feature_pip_count) for i in feature_pip_count]\n",
    "#TO Be fair in the comparison I should only consider here features quantified in at least one repl in each sample\n",
    "\n",
    "#3-Spectral counting (No PIP). Count peptides identified across runs\n",
    "uniq_peps_arr = []\n",
    "for id_file in os.listdir(\"/home/vital/FITExP_dataset/deMixQ_FITExP_subset/id_filter/\"):\n",
    "    if id_file.endswith(\".csv\"):\n",
    "        id_file = \"/home/vital/FITExP_dataset/deMixQ_FITExP_subset/id_filter/\" + id_file\n",
    "        peps = StringIO()\n",
    "        peps_header = []\n",
    "        with open(id_file) as fh:\n",
    "            for line in fh:\n",
    "                if line.startswith(\"#PEPTIDE\"):\n",
    "                    peps_header = line.split(\"\\t\")\n",
    "                if line.startswith(\"PEPTIDE\"):\n",
    "                    peps.write(line)\n",
    "        peps.seek(0)\n",
    "        peps_df = pandas.read_csv(peps, sep='\\t', header=None, names=peps_header)\n",
    "        peps = [re.sub('\\(.+?\\)', '', str(i)) for i in peps_df.sequence]\n",
    "        uniq_peps = list(set(peps))\n",
    "        uniq_peps_arr.append(uniq_peps)\n",
    "#flatten:\n",
    "all_pep_seqs = [pepseq for sublist in uniq_peps_arr for pepseq in sublist]\n",
    "pep_freq = collections.Counter(all_pep_seqs)\n",
    "pep_count = collections.Counter(pep_freq.values())\n",
    "p = pep_count.values()\n",
    "sp_count = []\n",
    "for i in range(len(p)):\n",
    "    sp_count.append(sum([s for s in p[i:len(p)]]))\n",
    "percent_spc = [i*100/max(sp_count) for i in sp_count]\n",
    "\n",
    "g_patch = mpatches.Patch(color='green', label='SpC (No PIP)')\n",
    "r_patch = mpatches.Patch(color='red', label='OpenMS Feature-Based PIP')\n",
    "b_patch = mpatches.Patch(color='blue', label='DeMixQ at least one repl in each sample')\n",
    "\n",
    "plt.plot(percent_spc, 'go')\n",
    "plt.plot(percent_feature_pip, 'ro')\n",
    "plt.plot(percent_demixq_pip, 'bo')\n",
    "\n",
    "plt.xticks(numpy.arange(0, len(ic0), 1))\n",
    "plt.xlabel(\"Quantified in more than # samples\")\n",
    "plt.ylim(0, 105)\n",
    "plt.xlim([-1,12])\n",
    "plt.ylabel(\"Proportion of quantified features (unique peptides)\")\n",
    "plt.legend(handles=[g_patch, r_patch, b_patch], loc=3)\n",
    "plt.show()\n"
   ]
  },
  {
   "cell_type": "code",
   "execution_count": 27,
   "metadata": {
    "collapsed": false
   },
   "outputs": [
    {
     "name": "stdout",
     "output_type": "stream",
     "text": [
      "10.5216951882\n"
     ]
    }
   ],
   "source": [
    "#count total number of missing values\n",
    "missing = dx_pep[q_cols][dx_pep[q_cols] == 0.000000e+00].count().sum()\n",
    "#total \n",
    "total = dx_pep[q_cols].shape[0]*dx_pep[q_cols].shape[1]\n",
    "#percent\n",
    "print missing/total*100"
   ]
  },
  {
   "cell_type": "code",
   "execution_count": 28,
   "metadata": {
    "collapsed": false
   },
   "outputs": [
    {
     "name": "stdout",
     "output_type": "stream",
     "text": [
      "0.0\n"
     ]
    }
   ],
   "source": [
    "# log2 transform of selected intensity colums from the dataframe_X\n",
    "data = dx[ic0 + ic1x].apply(numpy.log2)\n",
    "\n",
    "#impute remaining missing values as the minimum detectable intensity (int_1):\n",
    "#NOTE: This imputation is for -inf, which are the ic1x (int_1) cols (ion extracted intensities), NOT consensus(ic0) features intensities!\n",
    "data[data==-numpy.inf] = data[data!=-numpy.inf][ic1x].min().min()\n",
    "\n",
    "# or impute missing values as zero intensity\n",
    "#data[data==-numpy.inf] = 0\n",
    "\n",
    "data['rt'] = dx['rt_cf']\n",
    "data['mass'] = dx['mz_cf'] * dx['charge_cf']\n",
    "data['charge'] = dx['charge_cf']\n",
    "data['peptide'] = dx.peptide\n",
    "data['baseseq'] = dx.baseseq\n",
    "data['uniq'] = dx.uniq \n",
    "\n",
    "for a, b in icols:\n",
    "    dn = data[(data[a].notnull()) & (data[b] > 0)] #If impute int_1 with min intensity: all data[b] will be > 0 since I just imputed these (0 in dx, -inf in data, after log2) \n",
    "    mx = numpy.matrix(dn[[a,b,'mass']])\n",
    "    # KNN regression (k=5 by default) for predicting feature abundance (log2) based on ion intensity and precosor mass\n",
    "    regr = KNeighborsRegressor().fit(mx[:,1:], mx[:,0])\n",
    "    a_ = regr.predict(numpy.matrix(data[[b, 'mass']]))[:,0]\n",
    "    a_[data[b].values==0] = 0 # keep missing values from extraction\n",
    "    data[a + '_'] = a_\n",
    "ic2 = [a+'_' for a in ic0]\n",
    "tmp = dx[ic0].apply(numpy.log2)\n",
    "tmp.values[numpy.isnan(tmp.values)] = data[ic2].values[numpy.isnan(tmp.values)]\n",
    "data[ic0] = tmp.apply(numpy.exp2) # converting back to linear scale\n",
    "\n",
    "print data[ic0].values.flatten().tolist().count(1) * 1. / data[ic0].values.flatten().__len__()\n",
    "\n",
    "#this data df wont have any missing value for feature abundance columns (ic0) and also no mv for eic columns (ic1)\n"
   ]
  },
  {
   "cell_type": "code",
   "execution_count": 29,
   "metadata": {
    "collapsed": false
   },
   "outputs": [
    {
     "name": "stdout",
     "output_type": "stream",
     "text": [
      "32.3227168998 % features have been assigned with peptide sequence.\n"
     ]
    },
    {
     "data": {
      "image/png": "[encoded data removed]",
      "text/plain": [
       "<matplotlib.figure.Figure at 0x7fd1f483e790>"
      ]
     },
     "metadata": {},
     "output_type": "display_data"
    }
   ],
   "source": [
    "# quantified vs. identified\n",
    "print len(data[data.peptide != '']) *100./ data[ic0].__len__(), \"% features have been assigned with peptide sequence.\"\n",
    "data[ic0].apply(numpy.log10).median(axis=1).hist(bins=numpy.arange(4,10,0.1), lw=0, alpha=0.9)\n",
    "data[data.peptide != ''][ic0].apply(numpy.log10).median(axis=1).hist(bins=numpy.arange(4,10,0.1), lw=0, alpha=0.9)\n",
    "plt.xlabel(\"Abundance (log10)\")\n",
    "plt.ylabel(\"Frequency\")\n",
    "plt.title(\"Quantified VS Identified\")\n",
    "plt.show()"
   ]
  },
  {
   "cell_type": "code",
   "execution_count": null,
   "metadata": {
    "collapsed": true
   },
   "outputs": [],
   "source": [
    "data1 = data.copy(deep=True)\n",
    "for a, b in icols:\n",
    "    reg, _, _ = median_shift(dx, 'medianEIC', b, knn=5, span=500)\n",
    "    data1[a] = numpy.log2(data1[a]) - reg.predict(numpy.matrix(data1.rt).T).T[0]\n",
    "\n",
    "# keep identified features    \n",
    "pepdata = data1[data1.peptide != '']\n",
    "\n",
    "# remove duplications\n",
    "pepdata.drop_duplicates(subset=['uniq'], inplace=True)\n",
    "\n",
    "# convert back to linear intensity space\n",
    "pepdata[ic0] = 2 ** pepdata[ic0]\n",
    "\n",
    "# remove modified peptides?\n",
    "# pepdata = pepdata[[len(i) == 0 for i in pepdata.mods]]\n",
    "\n",
    "# report matrix\n",
    "mx = pepdata.groupby(['baseseq'])[ic0].sum()\n",
    "for i in ic0:\n",
    "    mx[i] = mx[i] / mx[i].mean() * mx[ic0].values.flatten().mean()\n",
    "\n",
    "# save peptide-level quantification result to a CSV file\n",
    "#mx.to_csv(r'../example/peptide_quant.csv')\n",
    "#mx.to_csv(r'/home/vital/DeMixQ_example/peptide_quant.csv')\n",
    "#mx.to_csv(r'/home/vital/FITExP_dataset/deMixQ_FITExP_subset/TOPPAS_out_FeaturePIP_IonPIP/peptide_quant.csv')"
   ]
  },
  {
   "cell_type": "markdown",
   "metadata": {},
   "source": [
    "#### PROTEINS\n",
    "\n",
    "After median-shift correction (RT-dependent abundance recalibration based on sliding windows of 500 features, 50step-size)\n",
    "\n",
    "I can report a matrix:\n",
    "mx.to_csv(r'/home/vital/FITExP_dataset/deMixQ_FITExP_subset/TOPPAS_out_FeaturePIP_IonPIP/peptide_quant.csv')\n",
    "\n",
    "But if I want to aggregate peptides abundances into a protein abundance with diffacto I need a new column with the protein id"
   ]
  },
  {
   "cell_type": "code",
   "execution_count": null,
   "metadata": {
    "collapsed": true
   },
   "outputs": [],
   "source": [
    "from Bio import SeqIO\n",
    "pep_quant = pandas.read_csv(r'/home/vital/FITExP_dataset/deMixQ_FITExP_subset/TOPPAS_out_FeaturePIP_IonPIP/peptide_quant.csv')\n",
    "my_peptides = list(pep_quant.baseseq)\n",
    "#look for my id in target db without contaminants so I only get target human proteins:\n",
    "db_file = '/home/vital/TOPPAS_Create_Database/uniprot_human.fasta'\n",
    "\n",
    "#db_handle = open(db_file, \"rU\")\n",
    "#db_dict = SeqIO.to_dict(SeqIO.parse(handle, \"fasta\"))\n",
    "#handle.close()\n",
    "\n",
    "pep_protId_dict = {}\n",
    "prot_Ids = []\n",
    "\n",
    "for i in range(len(my_peptides)):\n",
    "    for seq in SeqIO.parse(open(db_file), 'fasta'):\n",
    "        if my_peptides[i] in seq.seq:\n",
    "            prot_Ids.append(seq.id)\n",
    "            pep_protId_dict[my_peptides[i]] = prot_Ids\n",
    "    print \"%s found in %s\" % (my_peptides[i], prot_Ids)\n",
    "    prot_Ids = []\n",
    "seqs = pep_protId_dict.keys()\n",
    "ids = [(\", \").join(v) for v in pep_protId_dict.values()]\n",
    "d = {'seq': seqs, 'id': ids }\n",
    "pep_protId_df = pandas.DataFrame(data=d)\n",
    "\n",
    "#merge on right so I wont keep peptides not found in my target human db (discard decoys and contaminants)\n",
    "pep_quant = pandas.merge(pep_quant, pep_protId_df, left_on='baseseq', right_on='seq', how='right')\n",
    "\n",
    "#for quantification remove peptides(rows) matching to more than one protein id\n",
    "pep_quant = pep_quant[pep_quant[\"id\"].str.contains(\",\") == False]\n",
    "\n",
    "#To keep proteins with more than one peptide:\n",
    "groups = pep_quant.groupby(\"id\")\n",
    "pep_quant = groups.filter(lambda g: len(g) > 1)\n",
    "pep_quant.to_csv(\"pep_quant_multi_peps_per_prot.csv\")\n",
    "\n",
    "demixq_peps = pandas.read_csv(\"/home/vital/FITExP_dataset/deMixQ_FITExP_subset/pep_quant_multi_peps_per_prot.csv\")\n",
    "print len(demixq_peps.id.unique())\n"
   ]
  }
 ],
 "metadata": {
  "anaconda-cloud": {},
  "kernelspec": {
   "display_name": "Python [default]",
   "language": "python",
   "name": "python3"
  },
  "language_info": {
   "codemirror_mode": {
    "name": "ipython",
    "version": 3
   },
   "file_extension": ".py",
   "mimetype": "text/x-python",
   "name": "python",
   "nbconvert_exporter": "python",
   "pygments_lexer": "ipython3",
   "version": "3.5.2"
  }
 },
 "nbformat": 4,
 "nbformat_minor": 0
}
