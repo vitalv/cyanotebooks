{
 "cells": [
  {
   "cell_type": "markdown",
   "metadata": {
    "deletable": true,
    "editable": true
   },
   "source": [
    "Steps for building a library for DIA(SWATH)"
   ]
  },
  {
   "cell_type": "markdown",
   "metadata": {
    "deletable": true,
    "editable": true
   },
   "source": [
    "#### 13 Synechocystis Fractions containing ABP protein from Staphylococcus\n",
    "\n",
    ">HisABP  \n",
    "GSSHHHHHHSSGLVPRGSHMASLAEAKVLANRELDKYGVSDYHKNLINNAKTVEGVKDLQAQVVESAKKARISEATDGLSDFLKSQTPAEDTVKSIELAEAKVLANRELDKYGVSDYYKNLINNAKTVEGVKALIDEILAALPGTFAHYMDPNSSSVDKLAAA  \n",
    "\n",
    "ISEATDGLSDFLK  \n",
    "ELDKYGVSDYYK  \n",
    "TVEGVKDLQAQVVESAK  \n",
    "DLQAQVVESAK  \n",
    "SQTPAEDTVK  \n",
    "YGVSDYYK  \n",
    "SQTPAEDTVK  \n",
    "ALIDEILAALPGTFAHYM(Oxidation)DPNSSSVDK  \n",
    "GSHM(Oxidation)ASLAEAKVLANRELDK  \n",
    "SIELAEAK  \n",
    "NLINNAK  \n",
    "YGVSDYHKNLINNAK  "
   ]
  },
  {
   "cell_type": "markdown",
   "metadata": {
    "deletable": true,
    "editable": true
   },
   "source": [
    "* FIRST, Run MSGFPlus and qvality on all searches. But not here"
   ]
  },
  {
   "cell_type": "markdown",
   "metadata": {
    "deletable": true,
    "editable": true
   },
   "source": [
    "* MAP Alignment and feature extraction. Get RTs of the features with assigned peptides  \n",
    "    Map alignement of the qvality results using MapAlignerIdentification  \n",
    "    The transformation coordinates (.trafoXML files) are used to align the mzML files  \n",
    "    Find features on the rt aligned mzML files with FeatureFinderCentroided  \n",
    "    Assign identifications to the features: IdMapper  \n",
    "    Link the features to obtain consensus features: FeatureLinkerUnlabeledQT. The consensus RT is what I want! "
   ]
  },
  {
   "cell_type": "markdown",
   "metadata": {
    "deletable": true,
    "editable": true
   },
   "source": [
    "#### READ CONSENSUS FILE WITH CONSENSUS RTs   \n",
    "Read consensusMap exported by OpenMS FeatureLinkerUnlabeledQT->TextExporter"
   ]
  },
  {
   "cell_type": "code",
   "execution_count": 10,
   "metadata": {
    "collapsed": true,
    "deletable": true,
    "editable": true
   },
   "outputs": [],
   "source": [
    "import os \n",
    "import sys\n",
    "import csv\n",
    "import pandas\n",
    "import re\n",
    "from cStringIO import StringIO\n",
    "from pyteomics import fasta\n",
    "from sklearn.linear_model import LinearRegression\n",
    "import numpy\n",
    "import matplotlib.pyplot as plt\n",
    "%matplotlib inline "
   ]
  },
  {
   "cell_type": "code",
   "execution_count": 14,
   "metadata": {
    "collapsed": false,
    "deletable": true,
    "editable": true
   },
   "outputs": [],
   "source": [
    "#this_dir = \n",
    "#consensus_txt = os.path.join(this_dir, \"textExporter/consensusMap.csv\")'\n",
    "database = \"/home/vitalv/database/Synechocystis_PCC6803_protein_sequences_ABP.fasta\"\n",
    "consensus_txt = \"/home/vitalv/cyano_fractionated_20170114/textExporter/consensusMap.csv\"\n",
    "\n",
    "\n",
    "def read_consensus(fn):\n",
    "\tcons_header, pept_header, runs_name = [], [], []\n",
    "\t# fetch the headers for consensus features, unassigned peptides and experiments' names. \n",
    "\tfor row in csv.reader(open(fn), delimiter='\\t'):\n",
    "\t\tif row[0] == '#CONSENSUS':\n",
    "\t\t\tcons_header = row\n",
    "\t\telif row[0] == '#UNASSIGNEDPEPTIDE':\n",
    "\t\t\tpept_header = row\n",
    "\t\telif row[0] == 'MAP':\n",
    "\t\t\truns_name.append(row[2].split(\"/\")[-1].split(\".\")[0])\n",
    "\t# read consensus features\n",
    "\ts = StringIO()\n",
    "\twith open(fn) as fh:\n",
    "\t\tfor line in fh:\n",
    "\t\t\tif line.startswith(\"CONSENSUS\"):\n",
    "\t\t\t\ts.write(line)\n",
    "\ts.seek(0)\n",
    "\tcons = pandas.read_csv(s, sep='\\t', header=None, names=cons_header)\n",
    "\tco_peps = []\n",
    "\twith open(fn) as fh:\n",
    "\t\tfor line in fh:\n",
    "\t\t\tif line.startswith(\"CONSENSUS\"):\n",
    "\t\t\t\tco_peps.append('')\n",
    "\t\t\telif line.startswith('PEPTIDE') and co_peps[-1] == '':\n",
    "\t\t\t\tco_peps[-1] = line.split(\"\\t\")[5]# choose the first recorded peptide sequence as consensus sequence\n",
    "\tcons['peptide_0'] = co_peps\n",
    "\t# read uassigned peptides as consensus features\n",
    "\ts = StringIO()\n",
    "\twith open(fn) as fh:\n",
    "\t\tfor line in fh:\n",
    "\t\t\tif line.startswith(\"UNASSIGNEDPEPTIDE\"):\n",
    "\t\t\t\ts.write(line)\n",
    "\ts.seek(0)\n",
    "\tua_peps = pandas.read_csv(s, sep='\\t', header=None, names=pept_header)\n",
    "\tua_peps = ua_peps.groupby(['sequence', 'charge']).mean()\n",
    "\n",
    "\treturn cons, ua_peps, runs_name\n",
    "\n"
   ]
  },
  {
   "cell_type": "code",
   "execution_count": 15,
   "metadata": {
    "collapsed": false,
    "deletable": true,
    "editable": true
   },
   "outputs": [],
   "source": [
    "#Read consensus using the function above\n",
    "cons, uapep, runs_names = read_consensus(consensus_txt)\n",
    "\n",
    "#keep only consensus features that do have an assigned peptide sequence:\n",
    "cons_peps = cons[cons.peptide_0!=\"\"]\n",
    "\n",
    "#collapse features that have the same peptide assigned to them by selecting the one with the highest feature quality (quality_cf)\n",
    "cons_peps_groups = cons_peps.groupby('peptide_0', group_keys=False)\n",
    "cons_peps = cons_peps_groups.apply(lambda x: x.ix[x.quality_cf.idxmax()])"
   ]
  },
  {
   "cell_type": "code",
   "execution_count": 16,
   "metadata": {
    "collapsed": false,
    "deletable": true,
    "editable": true
   },
   "outputs": [],
   "source": [
    "#create new df with the columns I need\n",
    "pep_df = pandas.DataFrame(columns=['peptide_0', 'charge_cf', 'mz_cf', 'rt_cf', 'base_seq', 'mods', 'uniq', 'accession']) #'peptide'\n",
    "pep_df['peptide_0'] = [i for i in cons_peps.peptide_0]  + [ i[0] for i in uapep.index.tolist()]\n",
    "pep_df['charge_cf'] = [i for i in cons_peps.charge_cf]  + [ i[1] for i in uapep.index.tolist()]\n",
    "pep_df['mz_cf'] = [i for i in cons_peps.mz_cf] + uapep.mz.tolist()\n",
    "pep_df['rt_cf'] = [i for i in cons_peps.rt_cf] + uapep.rt.tolist()\n",
    "pep_df['base_seq'] = [ re.sub('\\(.+?\\)', '', str(i)) for i in pep_df.peptide_0]\n",
    "pep_df['mods'] = [ sorted(re.findall('\\(.+?\\)', str(i))) for i in pep_df.peptide_0]\n",
    "pep_df['uniq'] = [ \"%s%d%s\" % (x.base_seq, x.charge_cf, ''.join(x.mods)) for i, x in pep_df.iterrows()]\n",
    "\n",
    "\n",
    "#add the corresponding protein accession\n",
    "#this takes sooo long, find a quicker way\n",
    "for i, r in pep_df.iterrows():\n",
    "\tfor header, seq in fasta.read(database):\n",
    "\t\tif r.base_seq in seq:\n",
    "\t\t\tpep_df.loc[i,'accession'] = header.split(\" \")[0]\n"
   ]
  },
  {
   "cell_type": "code",
   "execution_count": 17,
   "metadata": {
    "collapsed": true,
    "deletable": true,
    "editable": true
   },
   "outputs": [],
   "source": [
    "#FIND ABP PEPTIDES  \n",
    "abp_peps = pep_df[pep_df.accession == \"HisABP\"]\n",
    "\n",
    "#there are abp peptides repeated. group by sequence and get median rt:\n",
    "abp_irts = abp_peps.groupby('peptide_0', as_index=False).median().sort_values(by='rt_cf').reset_index(drop=True)\n"
   ]
  },
  {
   "cell_type": "code",
   "execution_count": 18,
   "metadata": {
    "collapsed": true,
    "deletable": true,
    "editable": true
   },
   "outputs": [],
   "source": [
    "#Create new iRT scale:\n",
    "cons_peps.rt_cf.min() #650.65\n",
    "cons_peps.rt_cf.max() #4930.36\n",
    "abp_irts[\"iRT\"] = ['']*(len(abp_irts))\n",
    "for i, r in abp_irts.iterrows():\n",
    "\tfirst_rt_cf = abp_irts.loc[0, 'rt_cf']\n",
    "\tlast_rt_cf = abp_irts.loc[len(abp_irts)-1, 'rt_cf']\n",
    "\tif i == 0:\n",
    "\t\tabp_irts.loc[i, 'iRT'] = 0.0\n",
    "\telif i == len(abp_irts)-1:\n",
    "\t\tabp_irts.loc[i, 'iRT'] = 120.0\n",
    "\telse:\n",
    "\t\tirt = ((r.rt_cf- first_rt_cf )*120.0)/(last_rt_cf-first_rt_cf)\n",
    "\t\tabp_irts.loc[i, 'iRT'] = irt\n"
   ]
  },
  {
   "cell_type": "code",
   "execution_count": 20,
   "metadata": {
    "collapsed": false,
    "deletable": true,
    "editable": true
   },
   "outputs": [
    {
     "data": {
      "text/plain": [
       "LinearRegression(copy_X=True, fit_intercept=True, n_jobs=1, normalize=False)"
      ]
     },
     "execution_count": 20,
     "metadata": {},
     "output_type": "execute_result"
    }
   ],
   "source": [
    "#SET a LINEAR REGRESSION MODEL\n",
    "import numpy\n",
    "X = numpy.array(abp_irts.rt_cf).reshape(-1,1)\n",
    "y = numpy.array(abp_irts.iRT)\n",
    "model = LinearRegression()\n",
    "model.fit(X, y)"
   ]
  },
  {
   "cell_type": "code",
   "execution_count": 22,
   "metadata": {
    "collapsed": false,
    "deletable": true,
    "editable": true
   },
   "outputs": [
    {
     "data": {
      "image/png": "[encoded data removed]",
      "text/plain": [
       "<matplotlib.figure.Figure at 0x7f43932ceb90>"
      ]
     },
     "metadata": {},
     "output_type": "display_data"
    }
   ],
   "source": [
    "import matplotlib.pyplot as plt\n",
    "%matplotlib inline \n",
    "plt.scatter(abp_irts.rt_cf, abp_irts.iRT)\n",
    "plt.xticks(fontsize=12)\n",
    "plt.yticks(fontsize=12)\n",
    "plt.xlabel(\"empirical RT (s)\", fontsize=14)\n",
    "plt.ylabel(\"iRT - derived RT scale (unit-less)\", fontsize=14)\n",
    "plt.show()\n"
   ]
  },
  {
   "cell_type": "markdown",
   "metadata": {
    "deletable": true,
    "editable": true
   },
   "source": [
    "#### Read the qvality results to get a RT dataframe for the ABP peptides in each run"
   ]
  },
  {
   "cell_type": "code",
   "execution_count": 34,
   "metadata": {
    "collapsed": false,
    "deletable": true,
    "editable": true
   },
   "outputs": [],
   "source": [
    "import sys\n",
    "sys.path.append('/home/vitalv/cyano_fractionated_20170114/')\n",
    "import qvality\n",
    "#this_dir = os.getcwd()\n",
    "this_dir = \"/home/vitalv/cyano_fractionated_20170114/\"\n",
    "msgfplus_folder = os.path.join(this_dir, \"msgfplus/\")\n",
    "qvality_folder = os.path.join(this_dir, \"qvality/\")\n",
    "\n",
    "\n",
    "#Read the identification results from the qvality folder (previous to MapAlignerId)\n",
    "\n",
    "\n",
    "run_abp_peps = {}\n",
    "\n",
    "for file in [file for file in os.listdir(msgfplus_folder) if file.endswith(\".idXML\")]:\n",
    "\n",
    "    msgfp_csv = os.path.join(msgfplus_folder, file.split(\".\")[0] + \".csv\")\n",
    "    msgfp_idxml = os.path.join(msgfplus_folder, file)\n",
    "\n",
    "    msgfp_file_basename = os.path.basename(file).split(\".\")[0]\n",
    "    run = msgfp_file_basename.split(\"_\")[1]\n",
    "    msgfp_psms = qvality.read_msgfp_csv(msgfp_csv)\n",
    "    msgfp_peptides, msgfp_null_peptides = qvality.target_and_null_peptides_4_qvality(msgfp_psms)\n",
    "    #qvality_out_file = run_qvality(msgfp_file_basename, msgfp_peptides, msgfp_null_peptides)\n",
    "    qvality_out_file = msgfp_file_basename + \"_qvality_out.csv\"\n",
    "    msgfp_qvality = qvality.read_qvality_result(qvality_folder+qvality_out_file)\n",
    "\n",
    "    msgfp_peptides = msgfp_peptides.sort_values(by='score')\n",
    "    msgfp_peptides[\"qval\"] = msgfp_qvality[\"q-value\"].values\n",
    "\n",
    "    msgfp_peptides = msgfp_peptides[msgfp_peptides[\"qval\"]<0.01]\n",
    "    msgfp_peptides = msgfp_peptides[~msgfp_peptides.accessions.str.contains('XXX')]\n",
    "\n",
    "    run_abp_peps[run] = msgfp_peptides[msgfp_peptides.accessions == \"HisABP\"]\n",
    "\n",
    "    #print \"Unique identified peptides by MSGF+ (excluding decoy hits, q-val 0.01) in %s: %s\"%(msgfp_file_basename, len(msgfp_peptides))\n",
    "    #print \"Unique proteins those peptides map to: %s\"%len(msgfp_peptides.accessions.unique())\n",
    "\n",
    "\n",
    "for run, abp_peps in run_abp_peps.items():\n",
    "    abp_peps.rename(columns={'rt': \"rt\" + \"_\" + run}, inplace=True)\n",
    "\n",
    "abp_peps_dfs = [abp_peps.sort_values(by=\"sequence\") for abp_peps in run_abp_peps.values()]\n",
    "\n",
    "abp_rts = reduce(lambda left,right: pandas.merge(left, right, on='sequence'), abp_peps_dfs)\n",
    "rt_cols = [col for col in abp_rts.columns if \"rt\" in col and \"predicted\" not in col]\n",
    "abp_rts = abp_rts[['sequence']+ rt_cols]\n",
    "\n",
    "\n",
    "seq_rt_boxes = {}\n",
    "for i in range(len(abp_rts)):\n",
    "    seq_rt_boxes[abp_rts.loc[i, 'sequence']] = list(abp_rts.loc[i, rt_cols])\n",
    "\n",
    "import operator\n",
    "sorted_seq_rt_boxes = sorted(seq_rt_boxes.items(), key=operator.itemgetter(1))\n",
    "\n",
    "#do this if boxes is just the list of rt_lists (not a dict where key is the sequence)\n",
    "#boxes = boxes.sort(key=lambda x: numpy.median(x))\n",
    "\n",
    "seqs = [sorted_seq_rt_boxes[i][0] for i in range(len(sorted_seq_rt_boxes))]\n",
    "boxes_ua = [sorted_seq_rt_boxes[i][1] for i in range(len(sorted_seq_rt_boxes))]\n"
   ]
  },
  {
   "cell_type": "code",
   "execution_count": 35,
   "metadata": {
    "collapsed": false,
    "deletable": true,
    "editable": true
   },
   "outputs": [
    {
     "data": {
      "image/png": "[encoded data removed]",
      "text/plain": [
       "<matplotlib.figure.Figure at 0x7f438a89d550>"
      ]
     },
     "metadata": {},
     "output_type": "display_data"
    }
   ],
   "source": [
    "#Same thing for the Aligned (MapAlignerIdentification) results\n",
    "\n",
    "\n",
    "map_aligner_folder = os.path.join(this_dir, \"mapAligner/\")\n",
    "\n",
    "aligned_run_abp_peps = {}\n",
    "\n",
    "for file in [file for file in os.listdir(map_aligner_folder) if file.endswith(\".csv\")]:\n",
    "\trun = file.split(\"_\")[1]\n",
    "\taligned = qvality.read_msgfp_csv(os.path.join(map_aligner_folder, file))\n",
    "\taligned_run_abp_peps[run] = aligned[aligned.accessions == \"HisABP\"]\t\n",
    "\n",
    "for run, aligned_abp_peps in aligned_run_abp_peps.items():\n",
    "\taligned_abp_peps.rename(columns={'rt': \"rt\" + \"_\" + run}, inplace=True)\n",
    "\n",
    "\n",
    "aligned_abp_peps_dfs = [aligned_abp_peps.sort_values(by=\"sequence\") for aligned_abp_peps in aligned_run_abp_peps.values()]\n",
    "\n",
    "aligned_abp_rts = reduce(lambda left,right: pandas.merge(left, right, on='sequence'), aligned_abp_peps_dfs)\n",
    "\n",
    "rt_cols = [col for col in aligned_abp_rts.columns if \"rt\" in col and \"predicted\" not in col]\n",
    "\n",
    "aligned_abp_rts = aligned_abp_rts[['sequence']+ rt_cols]\n",
    "\n",
    "seq_aligned_rt_boxes = {}\n",
    "for i in range(len(aligned_abp_rts)):\n",
    "\tseq_aligned_rt_boxes[aligned_abp_rts.loc[i, 'sequence']] = list(aligned_abp_rts.loc[i, rt_cols])\n",
    "\n",
    "sorted_seq_aligned_rt_boxes = sorted(seq_aligned_rt_boxes.items(), key=operator.itemgetter(1))\n",
    "\n",
    "seqs = [sorted_seq_aligned_rt_boxes[i][0] for i in range(len(sorted_seq_aligned_rt_boxes))]\n",
    "boxes_a = [sorted_seq_aligned_rt_boxes[i][1] for i in range(len(sorted_seq_aligned_rt_boxes))]\n",
    "\n",
    "boxes_ = [boxes_ua[0], boxes_a[0], boxes_ua[1], boxes_a[1], boxes_ua[2], boxes_a[2], boxes_ua[3], boxes_a[3]]\n",
    "\n",
    "fig, ax = plt.subplots(1, figsize=(16,10))\n",
    "\n",
    "bplot = ax.boxplot(boxes_, vert=False, patch_artist=True)\n",
    "bplot['boxes'][0].set_facecolor(\"#2581D3\")\n",
    "bplot['boxes'][1].set_facecolor(\"#5D9CD5\")\n",
    "bplot['boxes'][2].set_facecolor(\"#D8D822\")\n",
    "bplot['boxes'][3].set_facecolor(\"#DADA5C\")\n",
    "bplot['boxes'][4].set_facecolor(\"#24D860\")\n",
    "bplot['boxes'][5].set_facecolor(\"#5CD886\")\n",
    "bplot['boxes'][6].set_facecolor(\"#4C26D6\")\n",
    "bplot['boxes'][7].set_facecolor(\"#785DDC\")\n",
    "plt.yticks([1.5,3.5,5.5,7.5], seqs, rotation='horizontal', fontsize=14)\n",
    "plt.xticks(fontsize=14)\n",
    "plt.xlabel('RT (s)', fontsize=14)\n",
    "plt.show()\n"
   ]
  },
  {
   "cell_type": "code",
   "execution_count": null,
   "metadata": {
    "collapsed": true,
    "deletable": true,
    "editable": true
   },
   "outputs": [],
   "source": []
  }
 ],
 "metadata": {
  "kernelspec": {
   "display_name": "Python 2",
   "language": "python",
   "name": "python2"
  },
  "language_info": {
   "codemirror_mode": {
    "name": "ipython",
    "version": 2
   },
   "file_extension": ".py",
   "mimetype": "text/x-python",
   "name": "python",
   "nbconvert_exporter": "python",
   "pygments_lexer": "ipython2",
   "version": "2.7.12+"
  }
 },
 "nbformat": 4,
 "nbformat_minor": 2
}
